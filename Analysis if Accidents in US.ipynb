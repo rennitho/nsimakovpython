{
 "cells": [
  {
   "cell_type": "code",
   "execution_count": 1,
   "id": "4259ea78",
   "metadata": {},
   "outputs": [],
   "source": [
    "#importing libraries\n",
    "import pandas as pd\n",
    "import numpy as np\n",
    "import matplotlib.pyplot as plt\n",
    "import seaborn as sns"
   ]
  },
  {
   "cell_type": "code",
   "execution_count": 2,
   "id": "855660c9",
   "metadata": {},
   "outputs": [
    {
     "data": {
      "text/plain": [
       "(50000, 47)"
      ]
     },
     "execution_count": 2,
     "metadata": {},
     "output_type": "execute_result"
    }
   ],
   "source": [
    "#read the data\n",
    "df = pd.read_csv(\"US_Accidents_Dec20_updated.csv\", nrows=50000)\n",
    "df.shape"
   ]
  },
  {
   "cell_type": "code",
   "execution_count": 3,
   "id": "55c473ec",
   "metadata": {},
   "outputs": [
    {
     "data": {
      "text/html": [
       "<div>\n",
       "<style scoped>\n",
       "    .dataframe tbody tr th:only-of-type {\n",
       "        vertical-align: middle;\n",
       "    }\n",
       "\n",
       "    .dataframe tbody tr th {\n",
       "        vertical-align: top;\n",
       "    }\n",
       "\n",
       "    .dataframe thead th {\n",
       "        text-align: right;\n",
       "    }\n",
       "</style>\n",
       "<table border=\"1\" class=\"dataframe\">\n",
       "  <thead>\n",
       "    <tr style=\"text-align: right;\">\n",
       "      <th></th>\n",
       "      <th>ID</th>\n",
       "      <th>Severity</th>\n",
       "      <th>Start_Time</th>\n",
       "      <th>End_Time</th>\n",
       "      <th>Start_Lat</th>\n",
       "      <th>Start_Lng</th>\n",
       "      <th>End_Lat</th>\n",
       "      <th>End_Lng</th>\n",
       "      <th>Distance(mi)</th>\n",
       "      <th>Description</th>\n",
       "      <th>...</th>\n",
       "      <th>Roundabout</th>\n",
       "      <th>Station</th>\n",
       "      <th>Stop</th>\n",
       "      <th>Traffic_Calming</th>\n",
       "      <th>Traffic_Signal</th>\n",
       "      <th>Turning_Loop</th>\n",
       "      <th>Sunrise_Sunset</th>\n",
       "      <th>Civil_Twilight</th>\n",
       "      <th>Nautical_Twilight</th>\n",
       "      <th>Astronomical_Twilight</th>\n",
       "    </tr>\n",
       "  </thead>\n",
       "  <tbody>\n",
       "    <tr>\n",
       "      <th>0</th>\n",
       "      <td>A-2716600</td>\n",
       "      <td>3</td>\n",
       "      <td>2016-02-08 00:37:08</td>\n",
       "      <td>2016-02-08 06:37:08</td>\n",
       "      <td>40.10891</td>\n",
       "      <td>-83.09286</td>\n",
       "      <td>40.11206</td>\n",
       "      <td>-83.03187</td>\n",
       "      <td>3.230</td>\n",
       "      <td>Between Sawmill Rd/Exit 20 and OH-315/Olentang...</td>\n",
       "      <td>...</td>\n",
       "      <td>False</td>\n",
       "      <td>False</td>\n",
       "      <td>False</td>\n",
       "      <td>False</td>\n",
       "      <td>False</td>\n",
       "      <td>False</td>\n",
       "      <td>Night</td>\n",
       "      <td>Night</td>\n",
       "      <td>Night</td>\n",
       "      <td>Night</td>\n",
       "    </tr>\n",
       "    <tr>\n",
       "      <th>1</th>\n",
       "      <td>A-2716601</td>\n",
       "      <td>2</td>\n",
       "      <td>2016-02-08 05:56:20</td>\n",
       "      <td>2016-02-08 11:56:20</td>\n",
       "      <td>39.86542</td>\n",
       "      <td>-84.06280</td>\n",
       "      <td>39.86501</td>\n",
       "      <td>-84.04873</td>\n",
       "      <td>0.747</td>\n",
       "      <td>At OH-4/OH-235/Exit 41 - Accident.</td>\n",
       "      <td>...</td>\n",
       "      <td>False</td>\n",
       "      <td>False</td>\n",
       "      <td>False</td>\n",
       "      <td>False</td>\n",
       "      <td>False</td>\n",
       "      <td>False</td>\n",
       "      <td>Night</td>\n",
       "      <td>Night</td>\n",
       "      <td>Night</td>\n",
       "      <td>Night</td>\n",
       "    </tr>\n",
       "    <tr>\n",
       "      <th>2</th>\n",
       "      <td>A-2716602</td>\n",
       "      <td>2</td>\n",
       "      <td>2016-02-08 06:15:39</td>\n",
       "      <td>2016-02-08 12:15:39</td>\n",
       "      <td>39.10266</td>\n",
       "      <td>-84.52468</td>\n",
       "      <td>39.10209</td>\n",
       "      <td>-84.52396</td>\n",
       "      <td>0.055</td>\n",
       "      <td>At I-71/US-50/Exit 1 - Accident.</td>\n",
       "      <td>...</td>\n",
       "      <td>False</td>\n",
       "      <td>False</td>\n",
       "      <td>False</td>\n",
       "      <td>False</td>\n",
       "      <td>False</td>\n",
       "      <td>False</td>\n",
       "      <td>Night</td>\n",
       "      <td>Night</td>\n",
       "      <td>Night</td>\n",
       "      <td>Day</td>\n",
       "    </tr>\n",
       "    <tr>\n",
       "      <th>3</th>\n",
       "      <td>A-2716603</td>\n",
       "      <td>2</td>\n",
       "      <td>2016-02-08 06:15:39</td>\n",
       "      <td>2016-02-08 12:15:39</td>\n",
       "      <td>39.10148</td>\n",
       "      <td>-84.52341</td>\n",
       "      <td>39.09841</td>\n",
       "      <td>-84.52241</td>\n",
       "      <td>0.219</td>\n",
       "      <td>At I-71/US-50/Exit 1 - Accident.</td>\n",
       "      <td>...</td>\n",
       "      <td>False</td>\n",
       "      <td>False</td>\n",
       "      <td>False</td>\n",
       "      <td>False</td>\n",
       "      <td>False</td>\n",
       "      <td>False</td>\n",
       "      <td>Night</td>\n",
       "      <td>Night</td>\n",
       "      <td>Night</td>\n",
       "      <td>Day</td>\n",
       "    </tr>\n",
       "    <tr>\n",
       "      <th>4</th>\n",
       "      <td>A-2716604</td>\n",
       "      <td>2</td>\n",
       "      <td>2016-02-08 06:51:45</td>\n",
       "      <td>2016-02-08 12:51:45</td>\n",
       "      <td>41.06213</td>\n",
       "      <td>-81.53784</td>\n",
       "      <td>41.06217</td>\n",
       "      <td>-81.53547</td>\n",
       "      <td>0.123</td>\n",
       "      <td>At Dart Ave/Exit 21 - Accident.</td>\n",
       "      <td>...</td>\n",
       "      <td>False</td>\n",
       "      <td>False</td>\n",
       "      <td>False</td>\n",
       "      <td>False</td>\n",
       "      <td>False</td>\n",
       "      <td>False</td>\n",
       "      <td>Night</td>\n",
       "      <td>Night</td>\n",
       "      <td>Day</td>\n",
       "      <td>Day</td>\n",
       "    </tr>\n",
       "  </tbody>\n",
       "</table>\n",
       "<p>5 rows × 47 columns</p>\n",
       "</div>"
      ],
      "text/plain": [
       "          ID  Severity           Start_Time             End_Time  Start_Lat  \\\n",
       "0  A-2716600         3  2016-02-08 00:37:08  2016-02-08 06:37:08   40.10891   \n",
       "1  A-2716601         2  2016-02-08 05:56:20  2016-02-08 11:56:20   39.86542   \n",
       "2  A-2716602         2  2016-02-08 06:15:39  2016-02-08 12:15:39   39.10266   \n",
       "3  A-2716603         2  2016-02-08 06:15:39  2016-02-08 12:15:39   39.10148   \n",
       "4  A-2716604         2  2016-02-08 06:51:45  2016-02-08 12:51:45   41.06213   \n",
       "\n",
       "   Start_Lng   End_Lat   End_Lng  Distance(mi)  \\\n",
       "0  -83.09286  40.11206 -83.03187         3.230   \n",
       "1  -84.06280  39.86501 -84.04873         0.747   \n",
       "2  -84.52468  39.10209 -84.52396         0.055   \n",
       "3  -84.52341  39.09841 -84.52241         0.219   \n",
       "4  -81.53784  41.06217 -81.53547         0.123   \n",
       "\n",
       "                                         Description  ...  Roundabout Station  \\\n",
       "0  Between Sawmill Rd/Exit 20 and OH-315/Olentang...  ...       False   False   \n",
       "1                 At OH-4/OH-235/Exit 41 - Accident.  ...       False   False   \n",
       "2                   At I-71/US-50/Exit 1 - Accident.  ...       False   False   \n",
       "3                   At I-71/US-50/Exit 1 - Accident.  ...       False   False   \n",
       "4                    At Dart Ave/Exit 21 - Accident.  ...       False   False   \n",
       "\n",
       "    Stop Traffic_Calming Traffic_Signal Turning_Loop Sunrise_Sunset  \\\n",
       "0  False           False          False        False          Night   \n",
       "1  False           False          False        False          Night   \n",
       "2  False           False          False        False          Night   \n",
       "3  False           False          False        False          Night   \n",
       "4  False           False          False        False          Night   \n",
       "\n",
       "  Civil_Twilight Nautical_Twilight Astronomical_Twilight  \n",
       "0          Night             Night                 Night  \n",
       "1          Night             Night                 Night  \n",
       "2          Night             Night                   Day  \n",
       "3          Night             Night                   Day  \n",
       "4          Night               Day                   Day  \n",
       "\n",
       "[5 rows x 47 columns]"
      ]
     },
     "execution_count": 3,
     "metadata": {},
     "output_type": "execute_result"
    }
   ],
   "source": [
    "df.head()\n",
    "    \n",
    "    "
   ]
  },
  {
   "cell_type": "code",
   "execution_count": 4,
   "id": "512becc6",
   "metadata": {},
   "outputs": [
    {
     "name": "stdout",
     "output_type": "stream",
     "text": [
      "<class 'pandas.core.frame.DataFrame'>\n",
      "RangeIndex: 50000 entries, 0 to 49999\n",
      "Data columns (total 47 columns):\n",
      " #   Column                 Non-Null Count  Dtype  \n",
      "---  ------                 --------------  -----  \n",
      " 0   ID                     50000 non-null  object \n",
      " 1   Severity               50000 non-null  int64  \n",
      " 2   Start_Time             50000 non-null  object \n",
      " 3   End_Time               50000 non-null  object \n",
      " 4   Start_Lat              50000 non-null  float64\n",
      " 5   Start_Lng              50000 non-null  float64\n",
      " 6   End_Lat                50000 non-null  float64\n",
      " 7   End_Lng                50000 non-null  float64\n",
      " 8   Distance(mi)           50000 non-null  float64\n",
      " 9   Description            50000 non-null  object \n",
      " 10  Number                 9999 non-null   float64\n",
      " 11  Street                 50000 non-null  object \n",
      " 12  Side                   50000 non-null  object \n",
      " 13  City                   49996 non-null  object \n",
      " 14  County                 50000 non-null  object \n",
      " 15  State                  50000 non-null  object \n",
      " 16  Zipcode                49972 non-null  object \n",
      " 17  Country                50000 non-null  object \n",
      " 18  Timezone               49969 non-null  object \n",
      " 19  Airport_Code           49940 non-null  object \n",
      " 20  Weather_Timestamp      49551 non-null  object \n",
      " 21  Temperature(F)         48741 non-null  float64\n",
      " 22  Wind_Chill(F)          14033 non-null  float64\n",
      " 23  Humidity(%)            48714 non-null  float64\n",
      " 24  Pressure(in)           48836 non-null  float64\n",
      " 25  Visibility(mi)         48531 non-null  float64\n",
      " 26  Wind_Direction         49546 non-null  object \n",
      " 27  Wind_Speed(mph)        42281 non-null  float64\n",
      " 28  Precipitation(in)      5825 non-null   float64\n",
      " 29  Weather_Condition      48617 non-null  object \n",
      " 30  Amenity                50000 non-null  bool   \n",
      " 31  Bump                   50000 non-null  bool   \n",
      " 32  Crossing               50000 non-null  bool   \n",
      " 33  Give_Way               50000 non-null  bool   \n",
      " 34  Junction               50000 non-null  bool   \n",
      " 35  No_Exit                50000 non-null  bool   \n",
      " 36  Railway                50000 non-null  bool   \n",
      " 37  Roundabout             50000 non-null  bool   \n",
      " 38  Station                50000 non-null  bool   \n",
      " 39  Stop                   50000 non-null  bool   \n",
      " 40  Traffic_Calming        50000 non-null  bool   \n",
      " 41  Traffic_Signal         50000 non-null  bool   \n",
      " 42  Turning_Loop           50000 non-null  bool   \n",
      " 43  Sunrise_Sunset         49996 non-null  object \n",
      " 44  Civil_Twilight         49996 non-null  object \n",
      " 45  Nautical_Twilight      49996 non-null  object \n",
      " 46  Astronomical_Twilight  49996 non-null  object \n",
      "dtypes: bool(13), float64(13), int64(1), object(20)\n",
      "memory usage: 13.6+ MB\n"
     ]
    }
   ],
   "source": [
    "df.info()"
   ]
  },
  {
   "cell_type": "code",
   "execution_count": 5,
   "id": "9d207588",
   "metadata": {},
   "outputs": [
    {
     "data": {
      "text/plain": [
       "Index(['ID', 'Severity', 'Start_Time', 'End_Time', 'Start_Lat', 'Start_Lng',\n",
       "       'End_Lat', 'End_Lng', 'Distance(mi)', 'Description', 'Number', 'Street',\n",
       "       'Side', 'City', 'County', 'State', 'Zipcode', 'Country', 'Timezone',\n",
       "       'Airport_Code', 'Weather_Timestamp', 'Temperature(F)', 'Wind_Chill(F)',\n",
       "       'Humidity(%)', 'Pressure(in)', 'Visibility(mi)', 'Wind_Direction',\n",
       "       'Wind_Speed(mph)', 'Precipitation(in)', 'Weather_Condition', 'Amenity',\n",
       "       'Bump', 'Crossing', 'Give_Way', 'Junction', 'No_Exit', 'Railway',\n",
       "       'Roundabout', 'Station', 'Stop', 'Traffic_Calming', 'Traffic_Signal',\n",
       "       'Turning_Loop', 'Sunrise_Sunset', 'Civil_Twilight', 'Nautical_Twilight',\n",
       "       'Astronomical_Twilight'],\n",
       "      dtype='object')"
      ]
     },
     "execution_count": 5,
     "metadata": {},
     "output_type": "execute_result"
    }
   ],
   "source": [
    "df.columns"
   ]
  },
  {
   "cell_type": "code",
   "execution_count": 6,
   "id": "952a9880",
   "metadata": {},
   "outputs": [
    {
     "data": {
      "text/html": [
       "<div>\n",
       "<style scoped>\n",
       "    .dataframe tbody tr th:only-of-type {\n",
       "        vertical-align: middle;\n",
       "    }\n",
       "\n",
       "    .dataframe tbody tr th {\n",
       "        vertical-align: top;\n",
       "    }\n",
       "\n",
       "    .dataframe thead th {\n",
       "        text-align: right;\n",
       "    }\n",
       "</style>\n",
       "<table border=\"1\" class=\"dataframe\">\n",
       "  <thead>\n",
       "    <tr style=\"text-align: right;\">\n",
       "      <th></th>\n",
       "      <th>Severity</th>\n",
       "      <th>Start_Lat</th>\n",
       "      <th>Start_Lng</th>\n",
       "      <th>End_Lat</th>\n",
       "      <th>End_Lng</th>\n",
       "      <th>Distance(mi)</th>\n",
       "      <th>Number</th>\n",
       "      <th>Temperature(F)</th>\n",
       "      <th>Wind_Chill(F)</th>\n",
       "      <th>Humidity(%)</th>\n",
       "      <th>Pressure(in)</th>\n",
       "      <th>Visibility(mi)</th>\n",
       "      <th>Wind_Speed(mph)</th>\n",
       "      <th>Precipitation(in)</th>\n",
       "    </tr>\n",
       "  </thead>\n",
       "  <tbody>\n",
       "    <tr>\n",
       "      <th>count</th>\n",
       "      <td>50000.000000</td>\n",
       "      <td>50000.000000</td>\n",
       "      <td>50000.000000</td>\n",
       "      <td>50000.000000</td>\n",
       "      <td>50000.000000</td>\n",
       "      <td>50000.000000</td>\n",
       "      <td>9999.000000</td>\n",
       "      <td>48741.000000</td>\n",
       "      <td>14033.00000</td>\n",
       "      <td>48714.000000</td>\n",
       "      <td>48836.000000</td>\n",
       "      <td>48531.00000</td>\n",
       "      <td>42281.000000</td>\n",
       "      <td>5825.000000</td>\n",
       "    </tr>\n",
       "    <tr>\n",
       "      <th>mean</th>\n",
       "      <td>2.398100</td>\n",
       "      <td>36.242184</td>\n",
       "      <td>-95.703181</td>\n",
       "      <td>36.242391</td>\n",
       "      <td>-95.703117</td>\n",
       "      <td>0.712888</td>\n",
       "      <td>7072.313031</td>\n",
       "      <td>56.817552</td>\n",
       "      <td>23.47689</td>\n",
       "      <td>66.861724</td>\n",
       "      <td>30.030260</td>\n",
       "      <td>9.05879</td>\n",
       "      <td>9.374636</td>\n",
       "      <td>0.072676</td>\n",
       "    </tr>\n",
       "    <tr>\n",
       "      <th>std</th>\n",
       "      <td>0.660473</td>\n",
       "      <td>4.880886</td>\n",
       "      <td>14.606362</td>\n",
       "      <td>4.881075</td>\n",
       "      <td>14.606442</td>\n",
       "      <td>1.820027</td>\n",
       "      <td>9906.518208</td>\n",
       "      <td>21.753894</td>\n",
       "      <td>16.50981</td>\n",
       "      <td>20.607732</td>\n",
       "      <td>0.262919</td>\n",
       "      <td>3.06730</td>\n",
       "      <td>7.308667</td>\n",
       "      <td>0.615548</td>\n",
       "    </tr>\n",
       "    <tr>\n",
       "      <th>min</th>\n",
       "      <td>2.000000</td>\n",
       "      <td>25.129476</td>\n",
       "      <td>-123.526160</td>\n",
       "      <td>25.130927</td>\n",
       "      <td>-123.526160</td>\n",
       "      <td>0.000000</td>\n",
       "      <td>1.000000</td>\n",
       "      <td>-18.000000</td>\n",
       "      <td>-34.70000</td>\n",
       "      <td>4.000000</td>\n",
       "      <td>20.670000</td>\n",
       "      <td>0.00000</td>\n",
       "      <td>0.000000</td>\n",
       "      <td>0.000000</td>\n",
       "    </tr>\n",
       "    <tr>\n",
       "      <th>25%</th>\n",
       "      <td>2.000000</td>\n",
       "      <td>32.814282</td>\n",
       "      <td>-98.456010</td>\n",
       "      <td>32.816597</td>\n",
       "      <td>-98.453970</td>\n",
       "      <td>0.146000</td>\n",
       "      <td>1272.500000</td>\n",
       "      <td>39.900000</td>\n",
       "      <td>13.40000</td>\n",
       "      <td>52.000000</td>\n",
       "      <td>29.900000</td>\n",
       "      <td>10.00000</td>\n",
       "      <td>5.800000</td>\n",
       "      <td>0.000000</td>\n",
       "    </tr>\n",
       "    <tr>\n",
       "      <th>50%</th>\n",
       "      <td>2.000000</td>\n",
       "      <td>35.735790</td>\n",
       "      <td>-94.643180</td>\n",
       "      <td>35.733929</td>\n",
       "      <td>-94.642530</td>\n",
       "      <td>0.396000</td>\n",
       "      <td>3934.000000</td>\n",
       "      <td>60.800000</td>\n",
       "      <td>25.60000</td>\n",
       "      <td>68.000000</td>\n",
       "      <td>30.010000</td>\n",
       "      <td>10.00000</td>\n",
       "      <td>8.100000</td>\n",
       "      <td>0.000000</td>\n",
       "    </tr>\n",
       "    <tr>\n",
       "      <th>75%</th>\n",
       "      <td>3.000000</td>\n",
       "      <td>39.986595</td>\n",
       "      <td>-84.086604</td>\n",
       "      <td>39.985647</td>\n",
       "      <td>-84.083674</td>\n",
       "      <td>0.693000</td>\n",
       "      <td>9316.500000</td>\n",
       "      <td>73.400000</td>\n",
       "      <td>34.20000</td>\n",
       "      <td>84.000000</td>\n",
       "      <td>30.150000</td>\n",
       "      <td>10.00000</td>\n",
       "      <td>11.500000</td>\n",
       "      <td>0.030000</td>\n",
       "    </tr>\n",
       "    <tr>\n",
       "      <th>max</th>\n",
       "      <td>4.000000</td>\n",
       "      <td>48.125360</td>\n",
       "      <td>-67.868380</td>\n",
       "      <td>48.122370</td>\n",
       "      <td>-67.868380</td>\n",
       "      <td>151.525000</td>\n",
       "      <td>330991.000000</td>\n",
       "      <td>129.200000</td>\n",
       "      <td>101.00000</td>\n",
       "      <td>100.000000</td>\n",
       "      <td>30.920000</td>\n",
       "      <td>111.00000</td>\n",
       "      <td>822.800000</td>\n",
       "      <td>10.020000</td>\n",
       "    </tr>\n",
       "  </tbody>\n",
       "</table>\n",
       "</div>"
      ],
      "text/plain": [
       "           Severity     Start_Lat     Start_Lng       End_Lat       End_Lng  \\\n",
       "count  50000.000000  50000.000000  50000.000000  50000.000000  50000.000000   \n",
       "mean       2.398100     36.242184    -95.703181     36.242391    -95.703117   \n",
       "std        0.660473      4.880886     14.606362      4.881075     14.606442   \n",
       "min        2.000000     25.129476   -123.526160     25.130927   -123.526160   \n",
       "25%        2.000000     32.814282    -98.456010     32.816597    -98.453970   \n",
       "50%        2.000000     35.735790    -94.643180     35.733929    -94.642530   \n",
       "75%        3.000000     39.986595    -84.086604     39.985647    -84.083674   \n",
       "max        4.000000     48.125360    -67.868380     48.122370    -67.868380   \n",
       "\n",
       "       Distance(mi)         Number  Temperature(F)  Wind_Chill(F)  \\\n",
       "count  50000.000000    9999.000000    48741.000000    14033.00000   \n",
       "mean       0.712888    7072.313031       56.817552       23.47689   \n",
       "std        1.820027    9906.518208       21.753894       16.50981   \n",
       "min        0.000000       1.000000      -18.000000      -34.70000   \n",
       "25%        0.146000    1272.500000       39.900000       13.40000   \n",
       "50%        0.396000    3934.000000       60.800000       25.60000   \n",
       "75%        0.693000    9316.500000       73.400000       34.20000   \n",
       "max      151.525000  330991.000000      129.200000      101.00000   \n",
       "\n",
       "        Humidity(%)  Pressure(in)  Visibility(mi)  Wind_Speed(mph)  \\\n",
       "count  48714.000000  48836.000000     48531.00000     42281.000000   \n",
       "mean      66.861724     30.030260         9.05879         9.374636   \n",
       "std       20.607732      0.262919         3.06730         7.308667   \n",
       "min        4.000000     20.670000         0.00000         0.000000   \n",
       "25%       52.000000     29.900000        10.00000         5.800000   \n",
       "50%       68.000000     30.010000        10.00000         8.100000   \n",
       "75%       84.000000     30.150000        10.00000        11.500000   \n",
       "max      100.000000     30.920000       111.00000       822.800000   \n",
       "\n",
       "       Precipitation(in)  \n",
       "count        5825.000000  \n",
       "mean            0.072676  \n",
       "std             0.615548  \n",
       "min             0.000000  \n",
       "25%             0.000000  \n",
       "50%             0.000000  \n",
       "75%             0.030000  \n",
       "max            10.020000  "
      ]
     },
     "execution_count": 6,
     "metadata": {},
     "output_type": "execute_result"
    }
   ],
   "source": [
    "df.describe()"
   ]
  },
  {
   "cell_type": "code",
   "execution_count": 7,
   "id": "25ab9c1d",
   "metadata": {},
   "outputs": [
    {
     "data": {
      "text/plain": [
       "Precipitation(in)        44175\n",
       "Number                   40001\n",
       "Wind_Chill(F)            35967\n",
       "Wind_Speed(mph)           7719\n",
       "Visibility(mi)            1469\n",
       "Weather_Condition         1383\n",
       "Humidity(%)               1286\n",
       "Temperature(F)            1259\n",
       "Pressure(in)              1164\n",
       "Wind_Direction             454\n",
       "Weather_Timestamp          449\n",
       "Airport_Code                60\n",
       "Timezone                    31\n",
       "Zipcode                     28\n",
       "Sunrise_Sunset               4\n",
       "Civil_Twilight               4\n",
       "Nautical_Twilight            4\n",
       "Astronomical_Twilight        4\n",
       "City                         4\n",
       "Country                      0\n",
       "Give_Way                     0\n",
       "Start_Time                   0\n",
       "End_Time                     0\n",
       "Start_Lat                    0\n",
       "Turning_Loop                 0\n",
       "Traffic_Signal               0\n",
       "Traffic_Calming              0\n",
       "Stop                         0\n",
       "Station                      0\n",
       "Roundabout                   0\n",
       "Railway                      0\n",
       "No_Exit                      0\n",
       "Junction                     0\n",
       "Crossing                     0\n",
       "State                        0\n",
       "Bump                         0\n",
       "Amenity                      0\n",
       "Start_Lng                    0\n",
       "End_Lat                      0\n",
       "End_Lng                      0\n",
       "Distance(mi)                 0\n",
       "Description                  0\n",
       "Street                       0\n",
       "Severity                     0\n",
       "Side                         0\n",
       "County                       0\n",
       "ID                           0\n",
       "dtype: int64"
      ]
     },
     "execution_count": 7,
     "metadata": {},
     "output_type": "execute_result"
    }
   ],
   "source": [
    "data = df.isna().sum().sort_values(ascending = False)\n",
    "data"
   ]
  },
  {
   "cell_type": "code",
   "execution_count": 8,
   "id": "fdd8c765",
   "metadata": {},
   "outputs": [],
   "source": [
    "#Calculating the percentage to misssing values\n",
    "percent_missing = data / len(df) *100"
   ]
  },
  {
   "cell_type": "code",
   "execution_count": 9,
   "id": "92253b76",
   "metadata": {},
   "outputs": [
    {
     "data": {
      "text/plain": [
       "Precipitation(in)        88.350\n",
       "Number                   80.002\n",
       "Wind_Chill(F)            71.934\n",
       "Wind_Speed(mph)          15.438\n",
       "Visibility(mi)            2.938\n",
       "Weather_Condition         2.766\n",
       "Humidity(%)               2.572\n",
       "Temperature(F)            2.518\n",
       "Pressure(in)              2.328\n",
       "Wind_Direction            0.908\n",
       "Weather_Timestamp         0.898\n",
       "Airport_Code              0.120\n",
       "Timezone                  0.062\n",
       "Zipcode                   0.056\n",
       "Sunrise_Sunset            0.008\n",
       "Civil_Twilight            0.008\n",
       "Nautical_Twilight         0.008\n",
       "Astronomical_Twilight     0.008\n",
       "City                      0.008\n",
       "Country                   0.000\n",
       "Give_Way                  0.000\n",
       "Start_Time                0.000\n",
       "End_Time                  0.000\n",
       "Start_Lat                 0.000\n",
       "Turning_Loop              0.000\n",
       "Traffic_Signal            0.000\n",
       "Traffic_Calming           0.000\n",
       "Stop                      0.000\n",
       "Station                   0.000\n",
       "Roundabout                0.000\n",
       "Railway                   0.000\n",
       "No_Exit                   0.000\n",
       "Junction                  0.000\n",
       "Crossing                  0.000\n",
       "State                     0.000\n",
       "Bump                      0.000\n",
       "Amenity                   0.000\n",
       "Start_Lng                 0.000\n",
       "End_Lat                   0.000\n",
       "End_Lng                   0.000\n",
       "Distance(mi)              0.000\n",
       "Description               0.000\n",
       "Street                    0.000\n",
       "Severity                  0.000\n",
       "Side                      0.000\n",
       "County                    0.000\n",
       "ID                        0.000\n",
       "dtype: float64"
      ]
     },
     "execution_count": 9,
     "metadata": {},
     "output_type": "execute_result"
    }
   ],
   "source": [
    "percent_missing"
   ]
  },
  {
   "cell_type": "markdown",
   "id": "eb203ef9",
   "metadata": {},
   "source": [
    "#Dropping these columsn as these are not useful to the dataset"
   ]
  },
  {
   "cell_type": "code",
   "execution_count": 10,
   "id": "c9795c7e",
   "metadata": {},
   "outputs": [],
   "source": [
    "df_1 = df.drop(columns = [\"ID\", \"Start_Lng\", \"Start_Lat\"], axis = 0 )"
   ]
  },
  {
   "cell_type": "code",
   "execution_count": 11,
   "id": "2c0cc0db",
   "metadata": {},
   "outputs": [
    {
     "data": {
      "text/plain": [
       "(50000, 44)"
      ]
     },
     "execution_count": 11,
     "metadata": {},
     "output_type": "execute_result"
    }
   ],
   "source": [
    "df_1.shape"
   ]
  },
  {
   "cell_type": "code",
   "execution_count": 12,
   "id": "0f852e5b",
   "metadata": {},
   "outputs": [
    {
     "data": {
      "text/plain": [
       "Index(['Severity', 'Start_Time', 'End_Time', 'End_Lat', 'End_Lng',\n",
       "       'Distance(mi)', 'Description', 'Number', 'Street', 'Side', 'City',\n",
       "       'County', 'State', 'Zipcode', 'Country', 'Timezone', 'Airport_Code',\n",
       "       'Weather_Timestamp', 'Temperature(F)', 'Wind_Chill(F)', 'Humidity(%)',\n",
       "       'Pressure(in)', 'Visibility(mi)', 'Wind_Direction', 'Wind_Speed(mph)',\n",
       "       'Precipitation(in)', 'Weather_Condition', 'Amenity', 'Bump', 'Crossing',\n",
       "       'Give_Way', 'Junction', 'No_Exit', 'Railway', 'Roundabout', 'Station',\n",
       "       'Stop', 'Traffic_Calming', 'Traffic_Signal', 'Turning_Loop',\n",
       "       'Sunrise_Sunset', 'Civil_Twilight', 'Nautical_Twilight',\n",
       "       'Astronomical_Twilight'],\n",
       "      dtype='object')"
      ]
     },
     "execution_count": 12,
     "metadata": {},
     "output_type": "execute_result"
    }
   ],
   "source": [
    "df_1.columns"
   ]
  },
  {
   "cell_type": "markdown",
   "id": "1e8a7852",
   "metadata": {},
   "source": [
    "- Let us look deeper into State and CIty for more insisght"
   ]
  },
  {
   "cell_type": "code",
   "execution_count": 13,
   "id": "3b4d4fc4",
   "metadata": {},
   "outputs": [
    {
     "data": {
      "text/plain": [
       "array(['OH', 'IN', 'KY', 'WV', 'MI', 'PA', 'CA', 'NV', 'MN', 'TX', 'MO',\n",
       "       'CO', 'OK', 'LA', 'KS', 'WI', 'IA', 'MS', 'NE', 'ND', 'WY', 'SD',\n",
       "       'MT', 'NM', 'AR', 'IL', 'NJ', 'GA', 'FL', 'NY', 'CT', 'RI', 'SC',\n",
       "       'NC', 'MD', 'MA', 'TN', 'VA', 'DE', 'DC', 'ME', 'AL', 'NH', 'VT'],\n",
       "      dtype=object)"
      ]
     },
     "execution_count": 13,
     "metadata": {},
     "output_type": "execute_result"
    }
   ],
   "source": [
    "df_1[\"State\"]. unique()"
   ]
  },
  {
   "cell_type": "code",
   "execution_count": 14,
   "id": "5ed4a7b9",
   "metadata": {},
   "outputs": [],
   "source": [
    "top_10_accidents = df_1.State.value_counts()"
   ]
  },
  {
   "cell_type": "code",
   "execution_count": 15,
   "id": "7656ddb2",
   "metadata": {},
   "outputs": [
    {
     "data": {
      "text/plain": [
       "CA    11104\n",
       "TX    10933\n",
       "MN     3005\n",
       "FL     2939\n",
       "MO     2482\n",
       "IL     2354\n",
       "NC     1739\n",
       "OH     1413\n",
       "NY     1323\n",
       "PA      994\n",
       "Name: State, dtype: int64"
      ]
     },
     "execution_count": 15,
     "metadata": {},
     "output_type": "execute_result"
    }
   ],
   "source": [
    "top_10_accidents[:10]"
   ]
  },
  {
   "cell_type": "markdown",
   "id": "26e3940e",
   "metadata": {},
   "source": [
    "- From this we can see that California, Texas and Minnesota are the top 3 states where accidents are the highest"
   ]
  },
  {
   "cell_type": "code",
   "execution_count": 83,
   "id": "ec055188",
   "metadata": {},
   "outputs": [
    {
     "data": {
      "text/plain": [
       "<AxesSubplot:>"
      ]
     },
     "execution_count": 83,
     "metadata": {},
     "output_type": "execute_result"
    },
    {
     "data": {
      "image/png": "[encoded data removed]",
      "text/plain": [
       "<Figure size 432x288 with 1 Axes>"
      ]
     },
     "metadata": {
      "needs_background": "light"
     },
     "output_type": "display_data"
    }
   ],
   "source": [
    "top_10_accidents[:10]. plot(kind = \"bar\")"
   ]
  },
  {
   "cell_type": "code",
   "execution_count": 17,
   "id": "8bed4ed2",
   "metadata": {},
   "outputs": [
    {
     "data": {
      "text/plain": [
       "Index(['Severity', 'Start_Time', 'End_Time', 'End_Lat', 'End_Lng',\n",
       "       'Distance(mi)', 'Description', 'Number', 'Street', 'Side', 'City',\n",
       "       'County', 'State', 'Zipcode', 'Country', 'Timezone', 'Airport_Code',\n",
       "       'Weather_Timestamp', 'Temperature(F)', 'Wind_Chill(F)', 'Humidity(%)',\n",
       "       'Pressure(in)', 'Visibility(mi)', 'Wind_Direction', 'Wind_Speed(mph)',\n",
       "       'Precipitation(in)', 'Weather_Condition', 'Amenity', 'Bump', 'Crossing',\n",
       "       'Give_Way', 'Junction', 'No_Exit', 'Railway', 'Roundabout', 'Station',\n",
       "       'Stop', 'Traffic_Calming', 'Traffic_Signal', 'Turning_Loop',\n",
       "       'Sunrise_Sunset', 'Civil_Twilight', 'Nautical_Twilight',\n",
       "       'Astronomical_Twilight'],\n",
       "      dtype='object')"
      ]
     },
     "execution_count": 17,
     "metadata": {},
     "output_type": "execute_result"
    }
   ],
   "source": [
    "df_1.columns"
   ]
  },
  {
   "cell_type": "code",
   "execution_count": 18,
   "id": "9d6587cb",
   "metadata": {},
   "outputs": [
    {
     "data": {
      "text/plain": [
       "array(['Dublin', 'Dayton', 'Cincinnati', ..., 'Benson', 'Totowa',\n",
       "       'Lostant'], dtype=object)"
      ]
     },
     "execution_count": 18,
     "metadata": {},
     "output_type": "execute_result"
    }
   ],
   "source": [
    "df.City.unique()"
   ]
  },
  {
   "cell_type": "code",
   "execution_count": 19,
   "id": "ce58746f",
   "metadata": {},
   "outputs": [
    {
     "data": {
      "text/plain": [
       "Houston           3436\n",
       "Dallas            3075\n",
       "Charlotte         1223\n",
       "Minneapolis       1155\n",
       "Kansas City       1122\n",
       "                  ... \n",
       "Greenup              1\n",
       "Palm Springs         1\n",
       "Morongo Valley       1\n",
       "Glen Mills           1\n",
       "Lostant              1\n",
       "Name: City, Length: 3714, dtype: int64"
      ]
     },
     "execution_count": 19,
     "metadata": {},
     "output_type": "execute_result"
    }
   ],
   "source": [
    "df.City.value_counts()"
   ]
  },
  {
   "cell_type": "markdown",
   "id": "c086ff48",
   "metadata": {},
   "source": [
    "- Finding the top 10 cities where most accidents have occured"
   ]
  },
  {
   "cell_type": "code",
   "execution_count": 20,
   "id": "31f69d09",
   "metadata": {},
   "outputs": [
    {
     "data": {
      "text/plain": [
       "Houston        3436\n",
       "Dallas         3075\n",
       "Charlotte      1223\n",
       "Minneapolis    1155\n",
       "Kansas City    1122\n",
       "Los Angeles    1120\n",
       "Saint Paul      871\n",
       "Fort Worth      743\n",
       "Chicago         574\n",
       "Miami           555\n",
       "Name: City, dtype: int64"
      ]
     },
     "execution_count": 20,
     "metadata": {},
     "output_type": "execute_result"
    }
   ],
   "source": [
    "city_accidents = df.City.value_counts()\n",
    "city_accidents[:10]"
   ]
  },
  {
   "cell_type": "markdown",
   "id": "729e3707",
   "metadata": {},
   "source": [
    "- From this we can see that Houstan, Dallas and Charlotte are the top 3 cities with highest accidents"
   ]
  },
  {
   "cell_type": "code",
   "execution_count": 21,
   "id": "48fd4bac",
   "metadata": {},
   "outputs": [
    {
     "data": {
      "text/plain": [
       "<AxesSubplot:>"
      ]
     },
     "execution_count": 21,
     "metadata": {},
     "output_type": "execute_result"
    },
    {
     "data": {
      "image/png": "[encoded data removed]",
      "text/plain": [
       "<Figure size 432x288 with 1 Axes>"
      ]
     },
     "metadata": {
      "needs_background": "light"
     },
     "output_type": "display_data"
    }
   ],
   "source": [
    "city_accidents[:30].plot(kind = \"barh\")"
   ]
  },
  {
   "cell_type": "markdown",
   "id": "d41dc40f",
   "metadata": {},
   "source": [
    "- From this we can see that there a lot of cities from California(LA, Sacramento, San Antonio, San Jose, San Diego) which matches our observation that California is the highest state where accidents occur, the second is Texas(Houstan, Dallas and Austin) are among the top cities."
   ]
  },
  {
   "cell_type": "code",
   "execution_count": 22,
   "id": "194ab3d3",
   "metadata": {},
   "outputs": [],
   "source": [
    "high_accidents = city_accidents[city_accidents>1000]"
   ]
  },
  {
   "cell_type": "markdown",
   "id": "10bd2ee8",
   "metadata": {},
   "source": [
    "- Most Accident prone cities"
   ]
  },
  {
   "cell_type": "code",
   "execution_count": 23,
   "id": "31324d34",
   "metadata": {},
   "outputs": [
    {
     "data": {
      "text/plain": [
       "Houston        3436\n",
       "Dallas         3075\n",
       "Charlotte      1223\n",
       "Minneapolis    1155\n",
       "Kansas City    1122\n",
       "Los Angeles    1120\n",
       "Name: City, dtype: int64"
      ]
     },
     "execution_count": 23,
     "metadata": {},
     "output_type": "execute_result"
    }
   ],
   "source": [
    "high_accidents"
   ]
  },
  {
   "cell_type": "code",
   "execution_count": 24,
   "id": "a81b7a9b",
   "metadata": {},
   "outputs": [
    {
     "data": {
      "text/plain": [
       "0        2016-02-08 00:37:08\n",
       "1        2016-02-08 05:56:20\n",
       "2        2016-02-08 06:15:39\n",
       "3        2016-02-08 06:15:39\n",
       "4        2016-02-08 06:51:45\n",
       "                ...         \n",
       "49995    2017-01-26 07:51:18\n",
       "49996    2017-01-26 08:47:33\n",
       "49997    2017-01-26 08:43:44\n",
       "49998    2017-01-26 08:35:30\n",
       "49999    2017-01-26 08:17:03\n",
       "Name: Start_Time, Length: 50000, dtype: object"
      ]
     },
     "execution_count": 24,
     "metadata": {},
     "output_type": "execute_result"
    }
   ],
   "source": [
    "#The start time of an accident is time marked\n",
    "df_1.Start_Time"
   ]
  },
  {
   "cell_type": "code",
   "execution_count": 25,
   "id": "95e9b0e0",
   "metadata": {},
   "outputs": [],
   "source": [
    "df_1.Start_Time =pd.to_datetime(df.Start_Time)"
   ]
  },
  {
   "cell_type": "code",
   "execution_count": 26,
   "id": "3083f0ed",
   "metadata": {},
   "outputs": [
    {
     "data": {
      "text/plain": [
       "0        0\n",
       "1        5\n",
       "2        6\n",
       "3        6\n",
       "4        6\n",
       "        ..\n",
       "49995    7\n",
       "49996    8\n",
       "49997    8\n",
       "49998    8\n",
       "49999    8\n",
       "Name: Start_Time, Length: 50000, dtype: int64"
      ]
     },
     "execution_count": 26,
     "metadata": {},
     "output_type": "execute_result"
    }
   ],
   "source": [
    "#Pulling the hour from this in order to check what time does most accidents occur\n",
    "df_1.Start_Time.dt.hour"
   ]
  },
  {
   "cell_type": "code",
   "execution_count": 27,
   "id": "7de0629e",
   "metadata": {},
   "outputs": [
    {
     "name": "stderr",
     "output_type": "stream",
     "text": [
      "/Users/rennithabraham/opt/anaconda3/lib/python3.8/site-packages/seaborn/distributions.py:2619: FutureWarning: `distplot` is a deprecated function and will be removed in a future version. Please adapt your code to use either `displot` (a figure-level function with similar flexibility) or `histplot` (an axes-level function for histograms).\n",
      "  warnings.warn(msg, FutureWarning)\n"
     ]
    },
    {
     "data": {
      "text/plain": [
       "<AxesSubplot:xlabel='Start_Time', ylabel='Density'>"
      ]
     },
     "execution_count": 27,
     "metadata": {},
     "output_type": "execute_result"
    },
    {
     "data": {
      "image/png": "[encoded data removed]",
      "text/plain": [
       "<Figure size 432x288 with 1 Axes>"
      ]
     },
     "metadata": {
      "needs_background": "light"
     },
     "output_type": "display_data"
    }
   ],
   "source": [
    "sns.distplot(df_1.Start_Time.dt.hour, bins = 30)"
   ]
  },
  {
   "cell_type": "markdown",
   "id": "78c4e512",
   "metadata": {},
   "source": [
    "- From this we can see that there are 2 peaks between the tome 6am and 9 am and also between 2 pm and 5pm"
   ]
  },
  {
   "cell_type": "code",
   "execution_count": 28,
   "id": "5251c868",
   "metadata": {},
   "outputs": [],
   "source": [
    "#extracting month, year, hour and weekday from timestamp\n",
    "\n",
    "df_1[\"Month\"] = df_1[\"Start_Time\"].dt.month\n",
    "df_1[\"Year\"] = df_1[\"Start_Time\"].dt.year\n",
    "df_1[\"Hour\"] = df_1[\"Start_Time\"].dt.hour\n",
    "df_1[\"Weekday\"] = df_1[\"Start_Time\"].dt.weekday"
   ]
  },
  {
   "cell_type": "code",
   "execution_count": 29,
   "id": "94d3fcfe",
   "metadata": {},
   "outputs": [
    {
     "data": {
      "text/plain": [
       "array([2016, 2017])"
      ]
     },
     "execution_count": 29,
     "metadata": {},
     "output_type": "execute_result"
    }
   ],
   "source": [
    "df_1.Year.unique()"
   ]
  },
  {
   "cell_type": "code",
   "execution_count": 30,
   "id": "91017eb2",
   "metadata": {},
   "outputs": [
    {
     "data": {
      "image/png": "[encoded data removed]",
      "text/plain": [
       "<Figure size 576x360 with 1 Axes>"
      ]
     },
     "metadata": {
      "needs_background": "light"
     },
     "output_type": "display_data"
    }
   ],
   "source": [
    "fig = plt.figure(figsize = (8,5))\n",
    "sns.countplot(x = \"Year\", data = df_1)\n",
    "plt.title(\"Accidents in a year\")\n",
    "plt.show()"
   ]
  },
  {
   "cell_type": "markdown",
   "id": "e33c0a65",
   "metadata": {},
   "source": [
    "- Here we can see that we have only 2 years in from the data and 2016 has a vast difference between the num,ber of accidents from the year 2017"
   ]
  },
  {
   "cell_type": "code",
   "execution_count": 31,
   "id": "2c8b23fd",
   "metadata": {},
   "outputs": [],
   "source": [
    "#Subsetting the Year Column\n",
    "\n",
    "df_1_2016 = df_1[df_1.Start_Time.dt.year == 2016]\n",
    "df_1_2017 = df_1[df_1.Start_Time.dt.year == 2017]"
   ]
  },
  {
   "cell_type": "code",
   "execution_count": 32,
   "id": "4be135e6",
   "metadata": {},
   "outputs": [
    {
     "data": {
      "image/png": "[encoded data removed]",
      "text/plain": [
       "<Figure size 576x360 with 1 Axes>"
      ]
     },
     "metadata": {
      "needs_background": "light"
     },
     "output_type": "display_data"
    }
   ],
   "source": [
    "#Monthly accidents in 2016\n",
    "\n",
    "fig = plt.figure(figsize = (8,5))\n",
    "sns.countplot(x = \"Month\", data = df_1_2016)\n",
    "plt.title(\"Accidents throughout 2016\")\n",
    "plt.show()"
   ]
  },
  {
   "cell_type": "code",
   "execution_count": 33,
   "id": "c7439d71",
   "metadata": {},
   "outputs": [
    {
     "data": {
      "text/plain": [
       "array([ 42.1,  36.9,  36. ,  39. ,  37. ,  35.6,  33.8,  33.1,  32. ,\n",
       "        35.1,  34. ,  33.4,  28. ,  26.6,  25. ,  23. ,  21. ,  19. ,\n",
       "        21.2,  21.9,  19.4,  22.5,  24.1,  30.2,  31.8,  30. ,  28.9,\n",
       "        30.9,  19.9,  15.8,  17.1,  12.2,  14. ,  15.3,  17.6,  24.8,\n",
       "        18. ,  16. ,   7. ,  12. ,  15.1,   9. ,   9.1,  16.5,  12.9,\n",
       "        10. ,   6.1,   8.1,   5. ,   3. ,   nan,  22.8,  25.2,  27. ,\n",
       "        24.3,  25.7,  29.8,  32.2,  28.4,  33. ,  37.9,  32.4,  32.7,\n",
       "        10.9,  43. ,  39.9,  51.1,  46.9,  48. ,  37.4,  53.1,  64. ,\n",
       "        50. ,  48.9,  61. ,  53.6,  57. ,  61.7,  54. ,  60.1,  64.9,\n",
       "        52. ,  66.9,  57.9,  63. ,  55.9,  69.1,  68. ,  34.9,  26.2,\n",
       "        34.2,  46. ,  44.1,  26.1,  39.2,  55.4,  55. ,  40.1,  46.2,\n",
       "        41. ,  42.8,  32.9,  46.4,  45. ,  32.5,  31.3,  31.6,  29.1,\n",
       "        27.7,  31.1,  44.6,  27.5,  48.2,  47.7,  62.6,  49.6,  53.4,\n",
       "        58.3,  59. ,  66. ,  62.1,  70. ,  71.1,  73.9,  72. ,  68.2,\n",
       "        73. ,  64.4,  55.8,  57.2,  60.8,  77. ,  51.8,  58.1,  58.5,\n",
       "        47.1,  47.5,  39.7,  56.1,  56.7,  66.2,  53.8,  60.4,  75. ,\n",
       "        80.1,  56.8,  37.8,  46.6,  61.2,  36.7,  69.8,  71.6,  70.7,\n",
       "        67.6,  64.8,  64.2,  50.4,  79. ,  55.2,  75.2,  73.4,  75.9,\n",
       "        78.1,  67.3,  82.9,  80.6,  81. ,  84. ,  78.8,  82.4,  84.2,\n",
       "        88. ,  82. ,  86. ,  84.9,  87.1,  65.1,  87.8,  91. ,  82.6,\n",
       "        62.2,  73.6,  53.2,  68.4,  55.6,  71. ,  89.6,  89.1,  90. ,\n",
       "        91.4,  91.9,  56.5,  93. ,  93.2,  93.9,  96.1,  95. ,  86.9,\n",
       "        68.5,  62.8,  84.6,  79.9,  86.2,  65.7,  97. ,  99. ,  98.6,\n",
       "        98.1, 100. , 102.9,  79.7, 102. ,  63.1,  96.8, 100.9, 100.4,\n",
       "       101. ,  78.3,  66.7,  76.3,  74.3,  71.4,  71.2,  39.4,  45.9,\n",
       "        50.7,  83. ,  77.4,  79.2,  74.1,  64.6,  60. ,  54.5,  58. ,\n",
       "        56. ,  52.9,  53. ,  54.9,  48.4,  71.8,  77.2,  59.7,  86.4,\n",
       "        70.9,  92. ,  67.1,  63.9,  59.4,  74. ,  80.4,  85.1,  84.7,\n",
       "        49.1,  74.7,  81.7,  70.2,  73.2,  66.4,  49. ,  62. ,  68.9,\n",
       "        51. ,  67.5,  79.3,  67. ,  76. ,  60.6,  69. ,  90.5,  69.4,\n",
       "        72.1,  83.8,  81.3,  58.8,  72.9,  79.5,  67.8,  66.6,  65.5,\n",
       "        70.3,  61.9,  59.5,  69.3,  65. ,  80. ,  62.4,  74.5,  78. ,\n",
       "        77.7,  63.7, 107.1,  80.8,  75.7,  75.6, 104. ,  82.8,  84.4,\n",
       "        78.4,  70.5,  77.9,  85. ,  87. ,  89. ,  91.6, 102.2, 105.1,\n",
       "       107.6, 105.8, 111.9, 101.1, 108. ,  38.1,  38.3,  35.8,  38. ,\n",
       "        35.4,  57.7,  54.3,  48.6,  47.8,  45.5,  28.8,  47.3,  43.5,\n",
       "        30.7,  28.2,  13.3,  23.9,  21.4,  38.8,  41.4,  45.7,   8.6,\n",
       "        11.3,   3.9,  20.3,   6.8,  15.6,  36.5,  18.5,  16.7,  33.6,\n",
       "        19.2,  37.2,  34.7,   3.2,   4.8,  17.2,   2.3,  40.3,   1.9,\n",
       "         1. ,  -0.4,  -0.9,  -2. ,  -0. ,   5.5,   4.1,  10.4,  -9.4,\n",
       "        -9.9,   7.7, -11.6,  -7.1,  -6. , -11. ,  -5.1, -11.9,  -8.5,\n",
       "        -8. ,  26.4,  41.9,  50.2,   6.3,  -9. ,  11.8,  21.7,  25.3,\n",
       "        14.5,  12.7,   8.2,  29.3,  54.7,  57.6,  -4. ,  -2.9,  -2.2,\n",
       "         1.4, -15. , -16.1, -18. , -14.1,  -7.6,  14.9,  18.3,  20.5,\n",
       "        47. ,  36.3,  43.7,  42.4,  41.7,  41.5,  36.1,  46.8,  43.2,\n",
       "        43.9,  52.7,  38.7,  51.6,   9.5,  25.5,  52.2,  76.8,  44.4,\n",
       "        43.3,  23.4,  51.3,  23.7,  35.2,   5.7,  22.6,  -5.8, -13. ,\n",
       "         9.9, -11.2,   0.5,  17. ,  11.1,  20.1,  16.9,  -6.2,  -8.1,\n",
       "        17.4,  17.8,  49.8,  58.6,  24.4,  59.2,  60.3,  12.6,  74.8,\n",
       "        72.3,  22.3,  65.8, -13.4, -10.7,  68.7,  -6.9,   6.6,  26.8,\n",
       "        31.5,  29.7,  49.3,  44.2,  51.4,  50.9,  45.1,  63.5,  42.6,\n",
       "        82.2,  10.6,  29.5,  69.6,  39.6,  40.8,  54.1, 127.4,  72.5,\n",
       "        63.3,  44.8,  77.5,  65.3,  41.2,  61.5,  45.3,  72.7,  34.5,\n",
       "        34.3,  57.4,  42.3,  56.3,  76.1,  49.5,  22.1,  48.7,  42. ,\n",
       "        33.3,  37.6,  50.5,  27.1,  90.9,  88.7,  90.7,  89.8,  76.6,\n",
       "        80.2,  93.4,  76.5,  90.1,  81.1,  91.8,  52.3,  83.7,  75.4,\n",
       "        59.9,  87.6,  83.3,  52.5,  73.8,  61.3, 129.2,  88.3, 118.4,\n",
       "        88.2,  85.5,  95.7,  97.2,  92.5,  93.6,  90.3,  85.8,  93.7,\n",
       "        94.3,  97.3,  88.9,  83.5, 101.5,  85.3,  89.2,  94.6,  85.6,\n",
       "        78.6,  81.5,  87.3,  92.8,  86.5,  94.1,  81.9,  88.5,  96. ,\n",
       "        94.8,  94. ,  98. ,  91.2,  92.3,  95.4,  98.8,  96.4,  89.4,\n",
       "        95.5,  96.6,  92.1,  94.5,  38.5,  40.6,  40.5,  23.5,  25.9,\n",
       "        30.6,  18.7,  18.1,  22. ,  16.2,  28.6,  13.1,  11.5,  18.9,\n",
       "        10.2,   7.3,  13.8,  -0.6,   4.6,   5.9,  11.7,  13.5,  12.4,\n",
       "         4.5,  14.4,  23.2,  27.3,  19.8,  -1.7,  -2.6,  -2.4,  -9.6,\n",
       "         3.7,  -8.9,   6.4,  20.7,  10.8,  14.7,  30.4,  21.6,  -7.2,\n",
       "         8.4,  24. ,  15.4,  24.6,  13.6,   9.7,  31. ,  14.2,  20. ])"
      ]
     },
     "execution_count": 33,
     "metadata": {},
     "output_type": "execute_result"
    }
   ],
   "source": [
    "df_1[\"Temperature(F)\"].unique()"
   ]
  },
  {
   "cell_type": "code",
   "execution_count": 34,
   "id": "aee20c36",
   "metadata": {},
   "outputs": [
    {
     "data": {
      "text/plain": [
       "68.0    1109\n",
       "77.0     964\n",
       "59.0     931\n",
       "63.0     819\n",
       "66.9     756\n",
       "        ... \n",
       "5.7        1\n",
       "94.5       1\n",
       "92.1       1\n",
       "83.8       1\n",
       "92.3       1\n",
       "Name: Temperature(F), Length: 602, dtype: int64"
      ]
     },
     "execution_count": 34,
     "metadata": {},
     "output_type": "execute_result"
    }
   ],
   "source": [
    "df_1[\"Temperature(F)\"].value_counts()"
   ]
  },
  {
   "cell_type": "code",
   "execution_count": 35,
   "id": "30345d99",
   "metadata": {},
   "outputs": [
    {
     "name": "stderr",
     "output_type": "stream",
     "text": [
      "/Users/rennithabraham/opt/anaconda3/lib/python3.8/site-packages/seaborn/distributions.py:2619: FutureWarning: `distplot` is a deprecated function and will be removed in a future version. Please adapt your code to use either `displot` (a figure-level function with similar flexibility) or `histplot` (an axes-level function for histograms).\n",
      "  warnings.warn(msg, FutureWarning)\n"
     ]
    },
    {
     "data": {
      "text/plain": [
       "<AxesSubplot:xlabel='Temperature(F)', ylabel='Density'>"
      ]
     },
     "execution_count": 35,
     "metadata": {},
     "output_type": "execute_result"
    },
    {
     "data": {
      "image/png": "[encoded data removed]",
      "text/plain": [
       "<Figure size 432x288 with 1 Axes>"
      ]
     },
     "metadata": {
      "needs_background": "light"
     },
     "output_type": "display_data"
    }
   ],
   "source": [
    "sns.distplot(df[\"Temperature(F)\"])"
   ]
  },
  {
   "cell_type": "markdown",
   "id": "68392b99",
   "metadata": {},
   "source": [
    "- We can see that at high temperature higher accidents tend to occur"
   ]
  },
  {
   "cell_type": "code",
   "execution_count": 36,
   "id": "28145e17",
   "metadata": {},
   "outputs": [
    {
     "data": {
      "text/plain": [
       "array(['Light Rain', 'Overcast', 'Mostly Cloudy', 'Snow', 'Light Snow',\n",
       "       'Cloudy', nan, 'Scattered Clouds', 'Clear', 'Partly Cloudy',\n",
       "       'Light Freezing Drizzle', 'Light Drizzle', 'Haze', 'Rain',\n",
       "       'Heavy Rain', 'Fair', 'Drizzle', 'Fog', 'Thunderstorms and Rain',\n",
       "       'Patches of Fog', 'Light Thunderstorms and Rain', 'Mist',\n",
       "       'Rain Showers', 'Light Rain Showers', 'Heavy Drizzle', 'Smoke',\n",
       "       'Light Freezing Fog', 'Light Freezing Rain', 'Blowing Snow',\n",
       "       'Heavy Thunderstorms and Rain', 'Heavy Snow', 'Snow Grains',\n",
       "       'Squalls', 'Light Fog', 'Shallow Fog', 'Thunderstorm',\n",
       "       'Light Ice Pellets', 'Thunder', 'Thunder in the Vicinity',\n",
       "       'Fair / Windy', 'Light Rain with Thunder',\n",
       "       'Heavy Thunderstorms and Snow', 'Light Snow Showers',\n",
       "       'Cloudy / Windy', 'Ice Pellets', 'N/A Precipitation',\n",
       "       'Light Thunderstorms and Snow', 'T-Storm', 'Rain / Windy',\n",
       "       'Wintry Mix'], dtype=object)"
      ]
     },
     "execution_count": 36,
     "metadata": {},
     "output_type": "execute_result"
    }
   ],
   "source": [
    "df_1.Weather_Condition.unique()"
   ]
  },
  {
   "cell_type": "code",
   "execution_count": 37,
   "id": "6c0e82aa",
   "metadata": {},
   "outputs": [
    {
     "data": {
      "text/plain": [
       "Clear                           16466\n",
       "Overcast                        10359\n",
       "Mostly Cloudy                    6699\n",
       "Scattered Clouds                 4739\n",
       "Partly Cloudy                    4597\n",
       "Light Rain                       1688\n",
       "Light Snow                       1389\n",
       "Haze                              505\n",
       "Rain                              372\n",
       "Fog                               327\n",
       "Fair                              230\n",
       "Light Drizzle                     188\n",
       "Snow                              137\n",
       "Light Freezing Rain               124\n",
       "Light Thunderstorms and Rain      121\n",
       "Heavy Rain                        120\n",
       "Cloudy                             79\n",
       "Light Freezing Drizzle             75\n",
       "Thunderstorm                       63\n",
       "Thunderstorms and Rain             60\n",
       "Heavy Thunderstorms and Rain       49\n",
       "Mist                               40\n",
       "Patches of Fog                     38\n",
       "Drizzle                            34\n",
       "Light Freezing Fog                 21\n",
       "Light Ice Pellets                  12\n",
       "Shallow Fog                        12\n",
       "Heavy Snow                         12\n",
       "Blowing Snow                        8\n",
       "Smoke                               7\n",
       "Heavy Drizzle                       6\n",
       "Light Rain Showers                  6\n",
       "Rain Showers                        4\n",
       "Ice Pellets                         4\n",
       "Snow Grains                         3\n",
       "Fair / Windy                        3\n",
       "Squalls                             3\n",
       "T-Storm                             3\n",
       "Thunder                             2\n",
       "Thunder in the Vicinity             2\n",
       "Heavy Thunderstorms and Snow        2\n",
       "N/A Precipitation                   1\n",
       "Rain / Windy                        1\n",
       "Light Thunderstorms and Snow        1\n",
       "Light Rain with Thunder             1\n",
       "Cloudy / Windy                      1\n",
       "Light Snow Showers                  1\n",
       "Light Fog                           1\n",
       "Wintry Mix                          1\n",
       "Name: Weather_Condition, dtype: int64"
      ]
     },
     "execution_count": 37,
     "metadata": {},
     "output_type": "execute_result"
    }
   ],
   "source": [
    "df_1.Weather_Condition.value_counts()"
   ]
  },
  {
   "cell_type": "markdown",
   "id": "71d52c89",
   "metadata": {},
   "source": [
    "- We can infer that a majority of accidents occur when it is Clear, Overcast and Mostly Cloudy"
   ]
  },
  {
   "cell_type": "code",
   "execution_count": 38,
   "id": "6e04886f",
   "metadata": {},
   "outputs": [
    {
     "data": {
      "text/plain": [
       "array([ 58.,  91.,  97.,  55.,  93., 100.,  92.,  70.,  96.,  79.,  88.,\n",
       "        80.,  86.,  82.,  90.,  74.,  84.,  81.,  73.,  77.,  85.,  78.,\n",
       "        68.,  75.,  63.,  65.,  57.,  56.,  87.,  59.,  60.,  83.,  62.,\n",
       "        48.,  71.,  54.,  52.,  46.,  42.,  50.,  41.,  51.,  66.,  67.,\n",
       "        nan,  89.,  94.,  76.,  69.,  72.,  31.,  44.,  38.,  49.,  45.,\n",
       "        35.,  29.,  43.,  32.,  33.,  34.,  26.,  47.,  37.,  30.,  40.,\n",
       "        61.,  64.,  53.,  99.,  27.,  39.,  17.,  28.,  24.,  98.,  95.,\n",
       "        36.,  23.,  18.,  19.,  22.,  21.,  25.,   4.,  11.,  20.,  15.,\n",
       "        12.,  16.,  14.,  13.,   9.,  10.,   7.,   5.,   8.,   6.])"
      ]
     },
     "execution_count": 38,
     "metadata": {},
     "output_type": "execute_result"
    }
   ],
   "source": [
    "df_1[\"Humidity(%)\"] .unique()"
   ]
  },
  {
   "cell_type": "code",
   "execution_count": 39,
   "id": "5f2a0c06",
   "metadata": {},
   "outputs": [
    {
     "data": {
      "text/plain": [
       "100.0    1847\n",
       "93.0     1763\n",
       "89.0     1041\n",
       "78.0      965\n",
       "87.0      952\n",
       "         ... \n",
       "8.0        24\n",
       "7.0        12\n",
       "4.0         9\n",
       "6.0         3\n",
       "5.0         2\n",
       "Name: Humidity(%), Length: 97, dtype: int64"
      ]
     },
     "execution_count": 39,
     "metadata": {},
     "output_type": "execute_result"
    }
   ],
   "source": [
    "df_1[\"Humidity(%)\"].value_counts()"
   ]
  },
  {
   "cell_type": "code",
   "execution_count": 40,
   "id": "69a2aa21",
   "metadata": {},
   "outputs": [
    {
     "name": "stderr",
     "output_type": "stream",
     "text": [
      "/Users/rennithabraham/opt/anaconda3/lib/python3.8/site-packages/seaborn/_decorators.py:36: FutureWarning: Pass the following variable as a keyword arg: x. From version 0.12, the only valid positional argument will be `data`, and passing other arguments without an explicit keyword will result in an error or misinterpretation.\n",
      "  warnings.warn(\n"
     ]
    },
    {
     "data": {
      "text/plain": [
       "<AxesSubplot:xlabel='Humidity(%)'>"
      ]
     },
     "execution_count": 40,
     "metadata": {},
     "output_type": "execute_result"
    },
    {
     "data": {
      "image/png": "[encoded data removed]",
      "text/plain": [
       "<Figure size 432x288 with 1 Axes>"
      ]
     },
     "metadata": {
      "needs_background": "light"
     },
     "output_type": "display_data"
    }
   ],
   "source": [
    "sns.boxplot(df_1[\"Humidity(%)\"])"
   ]
  },
  {
   "cell_type": "markdown",
   "id": "0a66ed6e",
   "metadata": {},
   "source": [
    "- When humidity is between 60-80 there are more accidents"
   ]
  },
  {
   "cell_type": "code",
   "execution_count": 41,
   "id": "ee532fac",
   "metadata": {},
   "outputs": [
    {
     "data": {
      "text/plain": [
       "array([1.00e+01, 3.00e+00, 5.00e-01, 1.80e+00, 1.00e+00, 6.00e+00,\n",
       "       8.00e+00, 2.00e+00, 1.50e+00, 1.20e+00, 5.00e+00, 2.50e+00,\n",
       "       4.00e+00, 8.00e-01, 7.00e+00, 9.00e+00,      nan, 7.50e-01,\n",
       "       2.00e+01, 2.50e-01, 2.00e-01, 1.50e+01, 3.00e+01, 5.50e+00,\n",
       "       1.30e+01, 6.00e+01, 5.00e+01, 3.50e+01, 2.50e+01, 1.00e-01,\n",
       "       0.00e+00, 1.10e+01, 7.00e+01, 1.20e+01, 4.00e+01, 6.20e+00,\n",
       "       1.11e+02, 2.20e+00, 3.50e+00, 1.90e+01])"
      ]
     },
     "execution_count": 41,
     "metadata": {},
     "output_type": "execute_result"
    }
   ],
   "source": [
    "df_1[\"Visibility(mi)\"].unique()"
   ]
  },
  {
   "cell_type": "code",
   "execution_count": 42,
   "id": "18b9cc35",
   "metadata": {},
   "outputs": [
    {
     "data": {
      "text/plain": [
       "10.00     37327\n",
       "7.00       1518\n",
       "9.00       1292\n",
       "5.00       1040\n",
       "8.00        949\n",
       "3.00        846\n",
       "4.00        837\n",
       "6.00        810\n",
       "13.00       684\n",
       "2.00        569\n",
       "2.50        506\n",
       "1.00        356\n",
       "0.50        317\n",
       "1.50        283\n",
       "0.80        241\n",
       "0.20        231\n",
       "1.80        210\n",
       "1.20        171\n",
       "30.00        64\n",
       "0.10         43\n",
       "50.00        43\n",
       "20.00        39\n",
       "15.00        36\n",
       "12.00        30\n",
       "11.00        28\n",
       "40.00        16\n",
       "0.00         16\n",
       "25.00         9\n",
       "0.75          4\n",
       "60.00         3\n",
       "70.00         3\n",
       "5.50          3\n",
       "35.00         1\n",
       "0.25          1\n",
       "6.20          1\n",
       "111.00        1\n",
       "2.20          1\n",
       "3.50          1\n",
       "19.00         1\n",
       "Name: Visibility(mi), dtype: int64"
      ]
     },
     "execution_count": 42,
     "metadata": {},
     "output_type": "execute_result"
    }
   ],
   "source": [
    "df_1[\"Visibility(mi)\"].value_counts()"
   ]
  },
  {
   "cell_type": "code",
   "execution_count": 43,
   "id": "0ea6a848",
   "metadata": {},
   "outputs": [
    {
     "data": {
      "text/plain": [
       "<AxesSubplot:xlabel='Visibility(mi)', ylabel='Count'>"
      ]
     },
     "execution_count": 43,
     "metadata": {},
     "output_type": "execute_result"
    },
    {
     "data": {
      "image/png": "[encoded data removed]",
      "text/plain": [
       "<Figure size 432x288 with 1 Axes>"
      ]
     },
     "metadata": {
      "needs_background": "light"
     },
     "output_type": "display_data"
    }
   ],
   "source": [
    "sns.histplot(df_1[\"Visibility(mi)\"])"
   ]
  },
  {
   "cell_type": "code",
   "execution_count": 44,
   "id": "393c8f06",
   "metadata": {},
   "outputs": [
    {
     "data": {
      "text/plain": [
       "array([False,  True])"
      ]
     },
     "execution_count": 44,
     "metadata": {},
     "output_type": "execute_result"
    }
   ],
   "source": [
    "df_1[\"Traffic_Signal\"].unique()"
   ]
  },
  {
   "cell_type": "code",
   "execution_count": 45,
   "id": "aafe5f5f",
   "metadata": {},
   "outputs": [
    {
     "data": {
      "text/plain": [
       "False    45879\n",
       "True      4121\n",
       "Name: Traffic_Signal, dtype: int64"
      ]
     },
     "execution_count": 45,
     "metadata": {},
     "output_type": "execute_result"
    }
   ],
   "source": [
    "df_1[\"Traffic_Signal\"].value_counts()"
   ]
  },
  {
   "cell_type": "code",
   "execution_count": 46,
   "id": "ba145244",
   "metadata": {},
   "outputs": [
    {
     "data": {
      "text/plain": [
       "<AxesSubplot:ylabel='Traffic_Signal'>"
      ]
     },
     "execution_count": 46,
     "metadata": {},
     "output_type": "execute_result"
    },
    {
     "data": {
      "image/png": "[encoded data removed]",
      "text/plain": [
       "<Figure size 432x288 with 1 Axes>"
      ]
     },
     "metadata": {},
     "output_type": "display_data"
    }
   ],
   "source": [
    "df_1[\"Traffic_Signal\"].value_counts().plot(kind = \"pie\")"
   ]
  },
  {
   "cell_type": "markdown",
   "id": "cd5bb7d2",
   "metadata": {},
   "source": [
    "- we can see that traffic signals can be a couse for an increase in accidents"
   ]
  },
  {
   "cell_type": "code",
   "execution_count": 47,
   "id": "effde327",
   "metadata": {},
   "outputs": [
    {
     "data": {
      "text/plain": [
       "<AxesSubplot:ylabel='Junction'>"
      ]
     },
     "execution_count": 47,
     "metadata": {},
     "output_type": "execute_result"
    },
    {
     "data": {
      "image/png": "[encoded data removed]",
      "text/plain": [
       "<Figure size 432x288 with 1 Axes>"
      ]
     },
     "metadata": {},
     "output_type": "display_data"
    }
   ],
   "source": [
    "df_1[\"Junction\"].value_counts().plot(kind = \"pie\")"
   ]
  },
  {
   "cell_type": "markdown",
   "id": "5c365c15",
   "metadata": {},
   "source": [
    "- We can see that accidents occur at junctions and hence better precautions are needed"
   ]
  },
  {
   "cell_type": "code",
   "execution_count": 48,
   "id": "28edb200",
   "metadata": {},
   "outputs": [
    {
     "data": {
      "text/plain": [
       "array([3, 2, 4])"
      ]
     },
     "execution_count": 48,
     "metadata": {},
     "output_type": "execute_result"
    }
   ],
   "source": [
    "df_1[\"Severity\"].unique()"
   ]
  },
  {
   "cell_type": "code",
   "execution_count": 49,
   "id": "89ba8805",
   "metadata": {},
   "outputs": [
    {
     "data": {
      "text/plain": [
       "2    35010\n",
       "3    10075\n",
       "4     4915\n",
       "Name: Severity, dtype: int64"
      ]
     },
     "execution_count": 49,
     "metadata": {},
     "output_type": "execute_result"
    }
   ],
   "source": [
    "df_1[\"Severity\"].value_counts()"
   ]
  },
  {
   "cell_type": "code",
   "execution_count": 55,
   "id": "16831d50",
   "metadata": {},
   "outputs": [
    {
     "data": {
      "image/png": "[encoded data removed]",
      "text/plain": [
       "<Figure size 1440x360 with 1 Axes>"
      ]
     },
     "metadata": {
      "needs_background": "light"
     },
     "output_type": "display_data"
    }
   ],
   "source": [
    "fig = plt.figure(figsize = (20,5))\n",
    "sns.countplot(x = \"Severity\", data = df_1)\n",
    "plt.title(\"Severity of Accidents\")\n",
    "plt.show()"
   ]
  },
  {
   "cell_type": "markdown",
   "id": "2a04d9c3",
   "metadata": {},
   "source": [
    "- We can see that Severity 2 is the highest "
   ]
  },
  {
   "cell_type": "code",
   "execution_count": 78,
   "id": "efbee060",
   "metadata": {},
   "outputs": [
    {
     "data": {
      "image/png": "[encoded data removed]",
      "text/plain": [
       "<Figure size 1440x360 with 1 Axes>"
      ]
     },
     "metadata": {
      "needs_background": "light"
     },
     "output_type": "display_data"
    }
   ],
   "source": [
    "df_state = df_1.groupby('State').sum('Severity')[['Severity']]\n",
    "df_state = df_state.reset_index().sort_values('Severity', ascending = False)[:50]\n",
    "fig, ax = plt.subplots(figsize = (20,5))\n",
    "c = sns.barplot(x = 'State', y = 'Severity', data = df_state, orient = 'v', palette = \"crest_r\")\n",
    "c.set_title(\"Top State with Highest Severity\")\n",
    "plt.show()\n"
   ]
  },
  {
   "cell_type": "code",
   "execution_count": null,
   "id": "eb97503d",
   "metadata": {},
   "outputs": [],
   "source": [
    "- Conslusions\n",
    "\n"
   ]
  }
 ],
 "metadata": {
  "kernelspec": {
   "display_name": "Python 3 (ipykernel)",
   "language": "python",
   "name": "python3"
  },
  "language_info": {
   "codemirror_mode": {
    "name": "ipython",
    "version": 3
   },
   "file_extension": ".py",
   "mimetype": "text/x-python",
   "name": "python",
   "nbconvert_exporter": "python",
   "pygments_lexer": "ipython3",
   "version": "3.8.8"
  }
 },
 "nbformat": 4,
 "nbformat_minor": 5
}
