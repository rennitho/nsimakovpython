{
 "cells": [
  {
   "cell_type": "code",
   "execution_count": 1,
   "id": "4259ea78",
   "metadata": {},
   "outputs": [],
   "source": [
    "#importing libraries\n",
    "import pandas as pd\n",
    "import numpy as np\n",
    "import matplotlib.pyplot as plt\n",
    "import seaborn as sns"
   ]
  },
  {
   "cell_type": "code",
   "execution_count": 2,
   "id": "855660c9",
   "metadata": {},
   "outputs": [
    {
     "data": {
      "text/plain": [
       "(1516064, 47)"
      ]
     },
     "execution_count": 2,
     "metadata": {},
     "output_type": "execute_result"
    }
   ],
   "source": [
    "#read the data\n",
    "df = pd.read_csv(\"US_Accidents_Dec20_updated.csv\")\n",
    "df.shape"
   ]
  },
  {
   "cell_type": "code",
   "execution_count": 3,
   "id": "55c473ec",
   "metadata": {},
   "outputs": [
    {
     "data": {
      "text/html": [
       "<div>\n",
       "<style scoped>\n",
       "    .dataframe tbody tr th:only-of-type {\n",
       "        vertical-align: middle;\n",
       "    }\n",
       "\n",
       "    .dataframe tbody tr th {\n",
       "        vertical-align: top;\n",
       "    }\n",
       "\n",
       "    .dataframe thead th {\n",
       "        text-align: right;\n",
       "    }\n",
       "</style>\n",
       "<table border=\"1\" class=\"dataframe\">\n",
       "  <thead>\n",
       "    <tr style=\"text-align: right;\">\n",
       "      <th></th>\n",
       "      <th>ID</th>\n",
       "      <th>Severity</th>\n",
       "      <th>Start_Time</th>\n",
       "      <th>End_Time</th>\n",
       "      <th>Start_Lat</th>\n",
       "      <th>Start_Lng</th>\n",
       "      <th>End_Lat</th>\n",
       "      <th>End_Lng</th>\n",
       "      <th>Distance(mi)</th>\n",
       "      <th>Description</th>\n",
       "      <th>...</th>\n",
       "      <th>Roundabout</th>\n",
       "      <th>Station</th>\n",
       "      <th>Stop</th>\n",
       "      <th>Traffic_Calming</th>\n",
       "      <th>Traffic_Signal</th>\n",
       "      <th>Turning_Loop</th>\n",
       "      <th>Sunrise_Sunset</th>\n",
       "      <th>Civil_Twilight</th>\n",
       "      <th>Nautical_Twilight</th>\n",
       "      <th>Astronomical_Twilight</th>\n",
       "    </tr>\n",
       "  </thead>\n",
       "  <tbody>\n",
       "    <tr>\n",
       "      <th>0</th>\n",
       "      <td>A-2716600</td>\n",
       "      <td>3</td>\n",
       "      <td>2016-02-08 00:37:08</td>\n",
       "      <td>2016-02-08 06:37:08</td>\n",
       "      <td>40.10891</td>\n",
       "      <td>-83.09286</td>\n",
       "      <td>40.11206</td>\n",
       "      <td>-83.03187</td>\n",
       "      <td>3.230</td>\n",
       "      <td>Between Sawmill Rd/Exit 20 and OH-315/Olentang...</td>\n",
       "      <td>...</td>\n",
       "      <td>False</td>\n",
       "      <td>False</td>\n",
       "      <td>False</td>\n",
       "      <td>False</td>\n",
       "      <td>False</td>\n",
       "      <td>False</td>\n",
       "      <td>Night</td>\n",
       "      <td>Night</td>\n",
       "      <td>Night</td>\n",
       "      <td>Night</td>\n",
       "    </tr>\n",
       "    <tr>\n",
       "      <th>1</th>\n",
       "      <td>A-2716601</td>\n",
       "      <td>2</td>\n",
       "      <td>2016-02-08 05:56:20</td>\n",
       "      <td>2016-02-08 11:56:20</td>\n",
       "      <td>39.86542</td>\n",
       "      <td>-84.06280</td>\n",
       "      <td>39.86501</td>\n",
       "      <td>-84.04873</td>\n",
       "      <td>0.747</td>\n",
       "      <td>At OH-4/OH-235/Exit 41 - Accident.</td>\n",
       "      <td>...</td>\n",
       "      <td>False</td>\n",
       "      <td>False</td>\n",
       "      <td>False</td>\n",
       "      <td>False</td>\n",
       "      <td>False</td>\n",
       "      <td>False</td>\n",
       "      <td>Night</td>\n",
       "      <td>Night</td>\n",
       "      <td>Night</td>\n",
       "      <td>Night</td>\n",
       "    </tr>\n",
       "    <tr>\n",
       "      <th>2</th>\n",
       "      <td>A-2716602</td>\n",
       "      <td>2</td>\n",
       "      <td>2016-02-08 06:15:39</td>\n",
       "      <td>2016-02-08 12:15:39</td>\n",
       "      <td>39.10266</td>\n",
       "      <td>-84.52468</td>\n",
       "      <td>39.10209</td>\n",
       "      <td>-84.52396</td>\n",
       "      <td>0.055</td>\n",
       "      <td>At I-71/US-50/Exit 1 - Accident.</td>\n",
       "      <td>...</td>\n",
       "      <td>False</td>\n",
       "      <td>False</td>\n",
       "      <td>False</td>\n",
       "      <td>False</td>\n",
       "      <td>False</td>\n",
       "      <td>False</td>\n",
       "      <td>Night</td>\n",
       "      <td>Night</td>\n",
       "      <td>Night</td>\n",
       "      <td>Day</td>\n",
       "    </tr>\n",
       "    <tr>\n",
       "      <th>3</th>\n",
       "      <td>A-2716603</td>\n",
       "      <td>2</td>\n",
       "      <td>2016-02-08 06:15:39</td>\n",
       "      <td>2016-02-08 12:15:39</td>\n",
       "      <td>39.10148</td>\n",
       "      <td>-84.52341</td>\n",
       "      <td>39.09841</td>\n",
       "      <td>-84.52241</td>\n",
       "      <td>0.219</td>\n",
       "      <td>At I-71/US-50/Exit 1 - Accident.</td>\n",
       "      <td>...</td>\n",
       "      <td>False</td>\n",
       "      <td>False</td>\n",
       "      <td>False</td>\n",
       "      <td>False</td>\n",
       "      <td>False</td>\n",
       "      <td>False</td>\n",
       "      <td>Night</td>\n",
       "      <td>Night</td>\n",
       "      <td>Night</td>\n",
       "      <td>Day</td>\n",
       "    </tr>\n",
       "    <tr>\n",
       "      <th>4</th>\n",
       "      <td>A-2716604</td>\n",
       "      <td>2</td>\n",
       "      <td>2016-02-08 06:51:45</td>\n",
       "      <td>2016-02-08 12:51:45</td>\n",
       "      <td>41.06213</td>\n",
       "      <td>-81.53784</td>\n",
       "      <td>41.06217</td>\n",
       "      <td>-81.53547</td>\n",
       "      <td>0.123</td>\n",
       "      <td>At Dart Ave/Exit 21 - Accident.</td>\n",
       "      <td>...</td>\n",
       "      <td>False</td>\n",
       "      <td>False</td>\n",
       "      <td>False</td>\n",
       "      <td>False</td>\n",
       "      <td>False</td>\n",
       "      <td>False</td>\n",
       "      <td>Night</td>\n",
       "      <td>Night</td>\n",
       "      <td>Day</td>\n",
       "      <td>Day</td>\n",
       "    </tr>\n",
       "  </tbody>\n",
       "</table>\n",
       "<p>5 rows × 47 columns</p>\n",
       "</div>"
      ],
      "text/plain": [
       "          ID  Severity           Start_Time             End_Time  Start_Lat  \\\n",
       "0  A-2716600         3  2016-02-08 00:37:08  2016-02-08 06:37:08   40.10891   \n",
       "1  A-2716601         2  2016-02-08 05:56:20  2016-02-08 11:56:20   39.86542   \n",
       "2  A-2716602         2  2016-02-08 06:15:39  2016-02-08 12:15:39   39.10266   \n",
       "3  A-2716603         2  2016-02-08 06:15:39  2016-02-08 12:15:39   39.10148   \n",
       "4  A-2716604         2  2016-02-08 06:51:45  2016-02-08 12:51:45   41.06213   \n",
       "\n",
       "   Start_Lng   End_Lat   End_Lng  Distance(mi)  \\\n",
       "0  -83.09286  40.11206 -83.03187         3.230   \n",
       "1  -84.06280  39.86501 -84.04873         0.747   \n",
       "2  -84.52468  39.10209 -84.52396         0.055   \n",
       "3  -84.52341  39.09841 -84.52241         0.219   \n",
       "4  -81.53784  41.06217 -81.53547         0.123   \n",
       "\n",
       "                                         Description  ...  Roundabout Station  \\\n",
       "0  Between Sawmill Rd/Exit 20 and OH-315/Olentang...  ...       False   False   \n",
       "1                 At OH-4/OH-235/Exit 41 - Accident.  ...       False   False   \n",
       "2                   At I-71/US-50/Exit 1 - Accident.  ...       False   False   \n",
       "3                   At I-71/US-50/Exit 1 - Accident.  ...       False   False   \n",
       "4                    At Dart Ave/Exit 21 - Accident.  ...       False   False   \n",
       "\n",
       "    Stop Traffic_Calming Traffic_Signal Turning_Loop Sunrise_Sunset  \\\n",
       "0  False           False          False        False          Night   \n",
       "1  False           False          False        False          Night   \n",
       "2  False           False          False        False          Night   \n",
       "3  False           False          False        False          Night   \n",
       "4  False           False          False        False          Night   \n",
       "\n",
       "  Civil_Twilight Nautical_Twilight Astronomical_Twilight  \n",
       "0          Night             Night                 Night  \n",
       "1          Night             Night                 Night  \n",
       "2          Night             Night                   Day  \n",
       "3          Night             Night                   Day  \n",
       "4          Night               Day                   Day  \n",
       "\n",
       "[5 rows x 47 columns]"
      ]
     },
     "execution_count": 3,
     "metadata": {},
     "output_type": "execute_result"
    }
   ],
   "source": [
    "df.head()  "
   ]
  },
  {
   "cell_type": "code",
   "execution_count": 4,
   "id": "512becc6",
   "metadata": {},
   "outputs": [
    {
     "name": "stdout",
     "output_type": "stream",
     "text": [
      "<class 'pandas.core.frame.DataFrame'>\n",
      "RangeIndex: 1516064 entries, 0 to 1516063\n",
      "Data columns (total 47 columns):\n",
      " #   Column                 Non-Null Count    Dtype  \n",
      "---  ------                 --------------    -----  \n",
      " 0   ID                     1516064 non-null  object \n",
      " 1   Severity               1516064 non-null  int64  \n",
      " 2   Start_Time             1516064 non-null  object \n",
      " 3   End_Time               1516064 non-null  object \n",
      " 4   Start_Lat              1516064 non-null  float64\n",
      " 5   Start_Lng              1516064 non-null  float64\n",
      " 6   End_Lat                1516064 non-null  float64\n",
      " 7   End_Lng                1516064 non-null  float64\n",
      " 8   Distance(mi)           1516064 non-null  float64\n",
      " 9   Description            1516064 non-null  object \n",
      " 10  Number                 469969 non-null   float64\n",
      " 11  Street                 1516064 non-null  object \n",
      " 12  Side                   1516064 non-null  object \n",
      " 13  City                   1515981 non-null  object \n",
      " 14  County                 1516064 non-null  object \n",
      " 15  State                  1516064 non-null  object \n",
      " 16  Zipcode                1515129 non-null  object \n",
      " 17  Country                1516064 non-null  object \n",
      " 18  Timezone               1513762 non-null  object \n",
      " 19  Airport_Code           1511816 non-null  object \n",
      " 20  Weather_Timestamp      1485800 non-null  object \n",
      " 21  Temperature(F)         1473031 non-null  float64\n",
      " 22  Wind_Chill(F)          1066748 non-null  float64\n",
      " 23  Humidity(%)            1470555 non-null  float64\n",
      " 24  Pressure(in)           1479790 non-null  float64\n",
      " 25  Visibility(mi)         1471853 non-null  float64\n",
      " 26  Wind_Direction         1474206 non-null  object \n",
      " 27  Wind_Speed(mph)        1387202 non-null  float64\n",
      " 28  Precipitation(in)      1005515 non-null  float64\n",
      " 29  Weather_Condition      1472057 non-null  object \n",
      " 30  Amenity                1516064 non-null  bool   \n",
      " 31  Bump                   1516064 non-null  bool   \n",
      " 32  Crossing               1516064 non-null  bool   \n",
      " 33  Give_Way               1516064 non-null  bool   \n",
      " 34  Junction               1516064 non-null  bool   \n",
      " 35  No_Exit                1516064 non-null  bool   \n",
      " 36  Railway                1516064 non-null  bool   \n",
      " 37  Roundabout             1516064 non-null  bool   \n",
      " 38  Station                1516064 non-null  bool   \n",
      " 39  Stop                   1516064 non-null  bool   \n",
      " 40  Traffic_Calming        1516064 non-null  bool   \n",
      " 41  Traffic_Signal         1516064 non-null  bool   \n",
      " 42  Turning_Loop           1516064 non-null  bool   \n",
      " 43  Sunrise_Sunset         1515981 non-null  object \n",
      " 44  Civil_Twilight         1515981 non-null  object \n",
      " 45  Nautical_Twilight      1515981 non-null  object \n",
      " 46  Astronomical_Twilight  1515981 non-null  object \n",
      "dtypes: bool(13), float64(13), int64(1), object(20)\n",
      "memory usage: 412.1+ MB\n"
     ]
    }
   ],
   "source": [
    "df.info()"
   ]
  },
  {
   "cell_type": "code",
   "execution_count": 5,
   "id": "9d207588",
   "metadata": {},
   "outputs": [
    {
     "data": {
      "text/plain": [
       "Index(['ID', 'Severity', 'Start_Time', 'End_Time', 'Start_Lat', 'Start_Lng',\n",
       "       'End_Lat', 'End_Lng', 'Distance(mi)', 'Description', 'Number', 'Street',\n",
       "       'Side', 'City', 'County', 'State', 'Zipcode', 'Country', 'Timezone',\n",
       "       'Airport_Code', 'Weather_Timestamp', 'Temperature(F)', 'Wind_Chill(F)',\n",
       "       'Humidity(%)', 'Pressure(in)', 'Visibility(mi)', 'Wind_Direction',\n",
       "       'Wind_Speed(mph)', 'Precipitation(in)', 'Weather_Condition', 'Amenity',\n",
       "       'Bump', 'Crossing', 'Give_Way', 'Junction', 'No_Exit', 'Railway',\n",
       "       'Roundabout', 'Station', 'Stop', 'Traffic_Calming', 'Traffic_Signal',\n",
       "       'Turning_Loop', 'Sunrise_Sunset', 'Civil_Twilight', 'Nautical_Twilight',\n",
       "       'Astronomical_Twilight'],\n",
       "      dtype='object')"
      ]
     },
     "execution_count": 5,
     "metadata": {},
     "output_type": "execute_result"
    }
   ],
   "source": [
    "df.columns"
   ]
  },
  {
   "cell_type": "code",
   "execution_count": 6,
   "id": "952a9880",
   "metadata": {},
   "outputs": [
    {
     "data": {
      "text/html": [
       "<div>\n",
       "<style scoped>\n",
       "    .dataframe tbody tr th:only-of-type {\n",
       "        vertical-align: middle;\n",
       "    }\n",
       "\n",
       "    .dataframe tbody tr th {\n",
       "        vertical-align: top;\n",
       "    }\n",
       "\n",
       "    .dataframe thead th {\n",
       "        text-align: right;\n",
       "    }\n",
       "</style>\n",
       "<table border=\"1\" class=\"dataframe\">\n",
       "  <thead>\n",
       "    <tr style=\"text-align: right;\">\n",
       "      <th></th>\n",
       "      <th>Severity</th>\n",
       "      <th>Start_Lat</th>\n",
       "      <th>Start_Lng</th>\n",
       "      <th>End_Lat</th>\n",
       "      <th>End_Lng</th>\n",
       "      <th>Distance(mi)</th>\n",
       "      <th>Number</th>\n",
       "      <th>Temperature(F)</th>\n",
       "      <th>Wind_Chill(F)</th>\n",
       "      <th>Humidity(%)</th>\n",
       "      <th>Pressure(in)</th>\n",
       "      <th>Visibility(mi)</th>\n",
       "      <th>Wind_Speed(mph)</th>\n",
       "      <th>Precipitation(in)</th>\n",
       "    </tr>\n",
       "  </thead>\n",
       "  <tbody>\n",
       "    <tr>\n",
       "      <th>count</th>\n",
       "      <td>1.516064e+06</td>\n",
       "      <td>1.516064e+06</td>\n",
       "      <td>1.516064e+06</td>\n",
       "      <td>1.516064e+06</td>\n",
       "      <td>1.516064e+06</td>\n",
       "      <td>1.516064e+06</td>\n",
       "      <td>4.699690e+05</td>\n",
       "      <td>1.473031e+06</td>\n",
       "      <td>1.066748e+06</td>\n",
       "      <td>1.470555e+06</td>\n",
       "      <td>1.479790e+06</td>\n",
       "      <td>1.471853e+06</td>\n",
       "      <td>1.387202e+06</td>\n",
       "      <td>1.005515e+06</td>\n",
       "    </tr>\n",
       "    <tr>\n",
       "      <th>mean</th>\n",
       "      <td>2.238630e+00</td>\n",
       "      <td>3.690056e+01</td>\n",
       "      <td>-9.859919e+01</td>\n",
       "      <td>3.690061e+01</td>\n",
       "      <td>-9.859901e+01</td>\n",
       "      <td>5.872617e-01</td>\n",
       "      <td>8.907533e+03</td>\n",
       "      <td>5.958460e+01</td>\n",
       "      <td>5.510976e+01</td>\n",
       "      <td>6.465960e+01</td>\n",
       "      <td>2.955495e+01</td>\n",
       "      <td>9.131755e+00</td>\n",
       "      <td>7.630812e+00</td>\n",
       "      <td>8.477855e-03</td>\n",
       "    </tr>\n",
       "    <tr>\n",
       "      <th>std</th>\n",
       "      <td>6.081481e-01</td>\n",
       "      <td>5.165653e+00</td>\n",
       "      <td>1.849602e+01</td>\n",
       "      <td>5.165629e+00</td>\n",
       "      <td>1.849590e+01</td>\n",
       "      <td>1.632659e+00</td>\n",
       "      <td>2.242190e+04</td>\n",
       "      <td>1.827316e+01</td>\n",
       "      <td>2.112735e+01</td>\n",
       "      <td>2.325986e+01</td>\n",
       "      <td>1.016756e+00</td>\n",
       "      <td>2.889112e+00</td>\n",
       "      <td>5.637364e+00</td>\n",
       "      <td>1.293168e-01</td>\n",
       "    </tr>\n",
       "    <tr>\n",
       "      <th>min</th>\n",
       "      <td>1.000000e+00</td>\n",
       "      <td>2.457022e+01</td>\n",
       "      <td>-1.244976e+02</td>\n",
       "      <td>2.457011e+01</td>\n",
       "      <td>-1.244978e+02</td>\n",
       "      <td>0.000000e+00</td>\n",
       "      <td>0.000000e+00</td>\n",
       "      <td>-8.900000e+01</td>\n",
       "      <td>-8.900000e+01</td>\n",
       "      <td>1.000000e+00</td>\n",
       "      <td>0.000000e+00</td>\n",
       "      <td>0.000000e+00</td>\n",
       "      <td>0.000000e+00</td>\n",
       "      <td>0.000000e+00</td>\n",
       "    </tr>\n",
       "    <tr>\n",
       "      <th>25%</th>\n",
       "      <td>2.000000e+00</td>\n",
       "      <td>3.385422e+01</td>\n",
       "      <td>-1.182076e+02</td>\n",
       "      <td>3.385420e+01</td>\n",
       "      <td>-1.182077e+02</td>\n",
       "      <td>0.000000e+00</td>\n",
       "      <td>1.212000e+03</td>\n",
       "      <td>4.700000e+01</td>\n",
       "      <td>4.080000e+01</td>\n",
       "      <td>4.800000e+01</td>\n",
       "      <td>2.944000e+01</td>\n",
       "      <td>1.000000e+01</td>\n",
       "      <td>4.600000e+00</td>\n",
       "      <td>0.000000e+00</td>\n",
       "    </tr>\n",
       "    <tr>\n",
       "      <th>50%</th>\n",
       "      <td>2.000000e+00</td>\n",
       "      <td>3.735113e+01</td>\n",
       "      <td>-9.438100e+01</td>\n",
       "      <td>3.735134e+01</td>\n",
       "      <td>-9.437987e+01</td>\n",
       "      <td>1.780000e-01</td>\n",
       "      <td>4.000000e+03</td>\n",
       "      <td>6.100000e+01</td>\n",
       "      <td>5.700000e+01</td>\n",
       "      <td>6.800000e+01</td>\n",
       "      <td>2.988000e+01</td>\n",
       "      <td>1.000000e+01</td>\n",
       "      <td>7.000000e+00</td>\n",
       "      <td>0.000000e+00</td>\n",
       "    </tr>\n",
       "    <tr>\n",
       "      <th>75%</th>\n",
       "      <td>2.000000e+00</td>\n",
       "      <td>4.072593e+01</td>\n",
       "      <td>-8.087469e+01</td>\n",
       "      <td>4.072593e+01</td>\n",
       "      <td>-8.087449e+01</td>\n",
       "      <td>5.940000e-01</td>\n",
       "      <td>1.010000e+04</td>\n",
       "      <td>7.300000e+01</td>\n",
       "      <td>7.100000e+01</td>\n",
       "      <td>8.400000e+01</td>\n",
       "      <td>3.004000e+01</td>\n",
       "      <td>1.000000e+01</td>\n",
       "      <td>1.040000e+01</td>\n",
       "      <td>0.000000e+00</td>\n",
       "    </tr>\n",
       "    <tr>\n",
       "      <th>max</th>\n",
       "      <td>4.000000e+00</td>\n",
       "      <td>4.900058e+01</td>\n",
       "      <td>-6.711317e+01</td>\n",
       "      <td>4.907500e+01</td>\n",
       "      <td>-6.710924e+01</td>\n",
       "      <td>1.551860e+02</td>\n",
       "      <td>9.999997e+06</td>\n",
       "      <td>1.706000e+02</td>\n",
       "      <td>1.130000e+02</td>\n",
       "      <td>1.000000e+02</td>\n",
       "      <td>5.804000e+01</td>\n",
       "      <td>1.400000e+02</td>\n",
       "      <td>9.840000e+02</td>\n",
       "      <td>2.400000e+01</td>\n",
       "    </tr>\n",
       "  </tbody>\n",
       "</table>\n",
       "</div>"
      ],
      "text/plain": [
       "           Severity     Start_Lat     Start_Lng       End_Lat       End_Lng  \\\n",
       "count  1.516064e+06  1.516064e+06  1.516064e+06  1.516064e+06  1.516064e+06   \n",
       "mean   2.238630e+00  3.690056e+01 -9.859919e+01  3.690061e+01 -9.859901e+01   \n",
       "std    6.081481e-01  5.165653e+00  1.849602e+01  5.165629e+00  1.849590e+01   \n",
       "min    1.000000e+00  2.457022e+01 -1.244976e+02  2.457011e+01 -1.244978e+02   \n",
       "25%    2.000000e+00  3.385422e+01 -1.182076e+02  3.385420e+01 -1.182077e+02   \n",
       "50%    2.000000e+00  3.735113e+01 -9.438100e+01  3.735134e+01 -9.437987e+01   \n",
       "75%    2.000000e+00  4.072593e+01 -8.087469e+01  4.072593e+01 -8.087449e+01   \n",
       "max    4.000000e+00  4.900058e+01 -6.711317e+01  4.907500e+01 -6.710924e+01   \n",
       "\n",
       "       Distance(mi)        Number  Temperature(F)  Wind_Chill(F)  \\\n",
       "count  1.516064e+06  4.699690e+05    1.473031e+06   1.066748e+06   \n",
       "mean   5.872617e-01  8.907533e+03    5.958460e+01   5.510976e+01   \n",
       "std    1.632659e+00  2.242190e+04    1.827316e+01   2.112735e+01   \n",
       "min    0.000000e+00  0.000000e+00   -8.900000e+01  -8.900000e+01   \n",
       "25%    0.000000e+00  1.212000e+03    4.700000e+01   4.080000e+01   \n",
       "50%    1.780000e-01  4.000000e+03    6.100000e+01   5.700000e+01   \n",
       "75%    5.940000e-01  1.010000e+04    7.300000e+01   7.100000e+01   \n",
       "max    1.551860e+02  9.999997e+06    1.706000e+02   1.130000e+02   \n",
       "\n",
       "        Humidity(%)  Pressure(in)  Visibility(mi)  Wind_Speed(mph)  \\\n",
       "count  1.470555e+06  1.479790e+06    1.471853e+06     1.387202e+06   \n",
       "mean   6.465960e+01  2.955495e+01    9.131755e+00     7.630812e+00   \n",
       "std    2.325986e+01  1.016756e+00    2.889112e+00     5.637364e+00   \n",
       "min    1.000000e+00  0.000000e+00    0.000000e+00     0.000000e+00   \n",
       "25%    4.800000e+01  2.944000e+01    1.000000e+01     4.600000e+00   \n",
       "50%    6.800000e+01  2.988000e+01    1.000000e+01     7.000000e+00   \n",
       "75%    8.400000e+01  3.004000e+01    1.000000e+01     1.040000e+01   \n",
       "max    1.000000e+02  5.804000e+01    1.400000e+02     9.840000e+02   \n",
       "\n",
       "       Precipitation(in)  \n",
       "count       1.005515e+06  \n",
       "mean        8.477855e-03  \n",
       "std         1.293168e-01  \n",
       "min         0.000000e+00  \n",
       "25%         0.000000e+00  \n",
       "50%         0.000000e+00  \n",
       "75%         0.000000e+00  \n",
       "max         2.400000e+01  "
      ]
     },
     "execution_count": 6,
     "metadata": {},
     "output_type": "execute_result"
    }
   ],
   "source": [
    "df.describe()"
   ]
  },
  {
   "cell_type": "code",
   "execution_count": 7,
   "id": "25ab9c1d",
   "metadata": {},
   "outputs": [
    {
     "data": {
      "text/plain": [
       "Number                   1046095\n",
       "Precipitation(in)         510549\n",
       "Wind_Chill(F)             449316\n",
       "Wind_Speed(mph)           128862\n",
       "Humidity(%)                45509\n",
       "Visibility(mi)             44211\n",
       "Weather_Condition          44007\n",
       "Temperature(F)             43033\n",
       "Wind_Direction             41858\n",
       "Pressure(in)               36274\n",
       "Weather_Timestamp          30264\n",
       "Airport_Code                4248\n",
       "Timezone                    2302\n",
       "Zipcode                      935\n",
       "Sunrise_Sunset                83\n",
       "Civil_Twilight                83\n",
       "Nautical_Twilight             83\n",
       "Astronomical_Twilight         83\n",
       "City                          83\n",
       "Country                        0\n",
       "Give_Way                       0\n",
       "Start_Time                     0\n",
       "End_Time                       0\n",
       "Start_Lat                      0\n",
       "Turning_Loop                   0\n",
       "Traffic_Signal                 0\n",
       "Traffic_Calming                0\n",
       "Stop                           0\n",
       "Station                        0\n",
       "Roundabout                     0\n",
       "Railway                        0\n",
       "No_Exit                        0\n",
       "Junction                       0\n",
       "Crossing                       0\n",
       "State                          0\n",
       "Bump                           0\n",
       "Amenity                        0\n",
       "Start_Lng                      0\n",
       "End_Lat                        0\n",
       "End_Lng                        0\n",
       "Distance(mi)                   0\n",
       "Description                    0\n",
       "Street                         0\n",
       "Severity                       0\n",
       "Side                           0\n",
       "County                         0\n",
       "ID                             0\n",
       "dtype: int64"
      ]
     },
     "execution_count": 7,
     "metadata": {},
     "output_type": "execute_result"
    }
   ],
   "source": [
    "data = df.isna().sum().sort_values(ascending = False)\n",
    "data"
   ]
  },
  {
   "cell_type": "code",
   "execution_count": 8,
   "id": "fdd8c765",
   "metadata": {},
   "outputs": [],
   "source": [
    "#Calculating the percentage to misssing values\n",
    "percent_missing = data / len(df) *100"
   ]
  },
  {
   "cell_type": "code",
   "execution_count": 9,
   "id": "92253b76",
   "metadata": {},
   "outputs": [
    {
     "data": {
      "text/plain": [
       "Number                   69.000715\n",
       "Precipitation(in)        33.675953\n",
       "Wind_Chill(F)            29.637007\n",
       "Wind_Speed(mph)           8.499773\n",
       "Humidity(%)               3.001786\n",
       "Visibility(mi)            2.916170\n",
       "Weather_Condition         2.902714\n",
       "Temperature(F)            2.838469\n",
       "Wind_Direction            2.760965\n",
       "Pressure(in)              2.392643\n",
       "Weather_Timestamp         1.996222\n",
       "Airport_Code              0.280199\n",
       "Timezone                  0.151841\n",
       "Zipcode                   0.061673\n",
       "Sunrise_Sunset            0.005475\n",
       "Civil_Twilight            0.005475\n",
       "Nautical_Twilight         0.005475\n",
       "Astronomical_Twilight     0.005475\n",
       "City                      0.005475\n",
       "Country                   0.000000\n",
       "Give_Way                  0.000000\n",
       "Start_Time                0.000000\n",
       "End_Time                  0.000000\n",
       "Start_Lat                 0.000000\n",
       "Turning_Loop              0.000000\n",
       "Traffic_Signal            0.000000\n",
       "Traffic_Calming           0.000000\n",
       "Stop                      0.000000\n",
       "Station                   0.000000\n",
       "Roundabout                0.000000\n",
       "Railway                   0.000000\n",
       "No_Exit                   0.000000\n",
       "Junction                  0.000000\n",
       "Crossing                  0.000000\n",
       "State                     0.000000\n",
       "Bump                      0.000000\n",
       "Amenity                   0.000000\n",
       "Start_Lng                 0.000000\n",
       "End_Lat                   0.000000\n",
       "End_Lng                   0.000000\n",
       "Distance(mi)              0.000000\n",
       "Description               0.000000\n",
       "Street                    0.000000\n",
       "Severity                  0.000000\n",
       "Side                      0.000000\n",
       "County                    0.000000\n",
       "ID                        0.000000\n",
       "dtype: float64"
      ]
     },
     "execution_count": 9,
     "metadata": {},
     "output_type": "execute_result"
    }
   ],
   "source": [
    "percent_missing"
   ]
  },
  {
   "cell_type": "markdown",
   "id": "eb203ef9",
   "metadata": {},
   "source": [
    "#Dropping these columsn as these are not useful to the dataset"
   ]
  },
  {
   "cell_type": "code",
   "execution_count": 10,
   "id": "c9795c7e",
   "metadata": {},
   "outputs": [],
   "source": [
    "df_1 = df.drop(columns = [\"ID\", \"Start_Lng\", \"Start_Lat\"], axis = 0 )"
   ]
  },
  {
   "cell_type": "code",
   "execution_count": 11,
   "id": "2c0cc0db",
   "metadata": {},
   "outputs": [
    {
     "data": {
      "text/plain": [
       "(1516064, 44)"
      ]
     },
     "execution_count": 11,
     "metadata": {},
     "output_type": "execute_result"
    }
   ],
   "source": [
    "df_1.shape"
   ]
  },
  {
   "cell_type": "code",
   "execution_count": 12,
   "id": "0f852e5b",
   "metadata": {},
   "outputs": [
    {
     "data": {
      "text/plain": [
       "Index(['Severity', 'Start_Time', 'End_Time', 'End_Lat', 'End_Lng',\n",
       "       'Distance(mi)', 'Description', 'Number', 'Street', 'Side', 'City',\n",
       "       'County', 'State', 'Zipcode', 'Country', 'Timezone', 'Airport_Code',\n",
       "       'Weather_Timestamp', 'Temperature(F)', 'Wind_Chill(F)', 'Humidity(%)',\n",
       "       'Pressure(in)', 'Visibility(mi)', 'Wind_Direction', 'Wind_Speed(mph)',\n",
       "       'Precipitation(in)', 'Weather_Condition', 'Amenity', 'Bump', 'Crossing',\n",
       "       'Give_Way', 'Junction', 'No_Exit', 'Railway', 'Roundabout', 'Station',\n",
       "       'Stop', 'Traffic_Calming', 'Traffic_Signal', 'Turning_Loop',\n",
       "       'Sunrise_Sunset', 'Civil_Twilight', 'Nautical_Twilight',\n",
       "       'Astronomical_Twilight'],\n",
       "      dtype='object')"
      ]
     },
     "execution_count": 12,
     "metadata": {},
     "output_type": "execute_result"
    }
   ],
   "source": [
    "df_1.columns"
   ]
  },
  {
   "cell_type": "markdown",
   "id": "1e8a7852",
   "metadata": {},
   "source": [
    "- Let us look deeper into State and CIty for more insisght"
   ]
  },
  {
   "cell_type": "code",
   "execution_count": 13,
   "id": "3b4d4fc4",
   "metadata": {},
   "outputs": [
    {
     "data": {
      "text/plain": [
       "array(['OH', 'IN', 'KY', 'WV', 'MI', 'PA', 'CA', 'NV', 'MN', 'TX', 'MO',\n",
       "       'CO', 'OK', 'LA', 'KS', 'WI', 'IA', 'MS', 'NE', 'ND', 'WY', 'SD',\n",
       "       'MT', 'NM', 'AR', 'IL', 'NJ', 'GA', 'FL', 'NY', 'CT', 'RI', 'SC',\n",
       "       'NC', 'MD', 'MA', 'TN', 'VA', 'DE', 'DC', 'ME', 'AL', 'NH', 'VT',\n",
       "       'AZ', 'UT', 'ID', 'OR', 'WA'], dtype=object)"
      ]
     },
     "execution_count": 13,
     "metadata": {},
     "output_type": "execute_result"
    }
   ],
   "source": [
    "df_1[\"State\"]. unique()"
   ]
  },
  {
   "cell_type": "code",
   "execution_count": 14,
   "id": "5ed4a7b9",
   "metadata": {},
   "outputs": [],
   "source": [
    "top_10_accidents = df_1.State.value_counts()"
   ]
  },
  {
   "cell_type": "code",
   "execution_count": 15,
   "id": "7656ddb2",
   "metadata": {},
   "outputs": [
    {
     "data": {
      "text/plain": [
       "CA    448833\n",
       "FL    153007\n",
       "OR     87484\n",
       "TX     75142\n",
       "NY     60974\n",
       "MN     52345\n",
       "VA     51198\n",
       "NC     50159\n",
       "PA     42844\n",
       "IL     41709\n",
       "Name: State, dtype: int64"
      ]
     },
     "execution_count": 15,
     "metadata": {},
     "output_type": "execute_result"
    }
   ],
   "source": [
    "top_10_accidents[:10]"
   ]
  },
  {
   "cell_type": "markdown",
   "id": "26e3940e",
   "metadata": {},
   "source": [
    "- From this we can see that California, Florida and Oregon and Texas are the top 4 states where accidents are the highest"
   ]
  },
  {
   "cell_type": "code",
   "execution_count": 16,
   "id": "ec055188",
   "metadata": {},
   "outputs": [
    {
     "data": {
      "text/plain": [
       "<AxesSubplot:>"
      ]
     },
     "execution_count": 16,
     "metadata": {},
     "output_type": "execute_result"
    },
    {
     "data": {
      "image/png": "[encoded data removed]",
      "text/plain": [
       "<Figure size 432x288 with 1 Axes>"
      ]
     },
     "metadata": {
      "needs_background": "light"
     },
     "output_type": "display_data"
    }
   ],
   "source": [
    "top_10_accidents[:10]. plot(kind = \"bar\")"
   ]
  },
  {
   "cell_type": "code",
   "execution_count": 17,
   "id": "8bed4ed2",
   "metadata": {},
   "outputs": [
    {
     "data": {
      "text/plain": [
       "Index(['Severity', 'Start_Time', 'End_Time', 'End_Lat', 'End_Lng',\n",
       "       'Distance(mi)', 'Description', 'Number', 'Street', 'Side', 'City',\n",
       "       'County', 'State', 'Zipcode', 'Country', 'Timezone', 'Airport_Code',\n",
       "       'Weather_Timestamp', 'Temperature(F)', 'Wind_Chill(F)', 'Humidity(%)',\n",
       "       'Pressure(in)', 'Visibility(mi)', 'Wind_Direction', 'Wind_Speed(mph)',\n",
       "       'Precipitation(in)', 'Weather_Condition', 'Amenity', 'Bump', 'Crossing',\n",
       "       'Give_Way', 'Junction', 'No_Exit', 'Railway', 'Roundabout', 'Station',\n",
       "       'Stop', 'Traffic_Calming', 'Traffic_Signal', 'Turning_Loop',\n",
       "       'Sunrise_Sunset', 'Civil_Twilight', 'Nautical_Twilight',\n",
       "       'Astronomical_Twilight'],\n",
       "      dtype='object')"
      ]
     },
     "execution_count": 17,
     "metadata": {},
     "output_type": "execute_result"
    }
   ],
   "source": [
    "df_1.columns"
   ]
  },
  {
   "cell_type": "code",
   "execution_count": 18,
   "id": "9d6587cb",
   "metadata": {},
   "outputs": [
    {
     "data": {
      "text/plain": [
       "array(['Dublin', 'Dayton', 'Cincinnati', ..., 'Succasunna', 'Valleyford',\n",
       "       'American Fork-Pleasant Grove'], dtype=object)"
      ]
     },
     "execution_count": 18,
     "metadata": {},
     "output_type": "execute_result"
    }
   ],
   "source": [
    "df.City.unique()"
   ]
  },
  {
   "cell_type": "code",
   "execution_count": 19,
   "id": "ce58746f",
   "metadata": {},
   "outputs": [
    {
     "data": {
      "text/plain": [
       "Los Angeles                     39984\n",
       "Miami                           36233\n",
       "Charlotte                       22203\n",
       "Houston                         20843\n",
       "Dallas                          19497\n",
       "                                ...  \n",
       "Manzanita                           1\n",
       "West Brooklyn                       1\n",
       "Garfield Heights                    1\n",
       "Belding                             1\n",
       "American Fork-Pleasant Grove        1\n",
       "Name: City, Length: 10657, dtype: int64"
      ]
     },
     "execution_count": 19,
     "metadata": {},
     "output_type": "execute_result"
    }
   ],
   "source": [
    "df.City.value_counts()"
   ]
  },
  {
   "cell_type": "markdown",
   "id": "c086ff48",
   "metadata": {},
   "source": [
    "- Finding the top 10 cities where most accidents have occured"
   ]
  },
  {
   "cell_type": "code",
   "execution_count": 20,
   "id": "31f69d09",
   "metadata": {},
   "outputs": [
    {
     "data": {
      "text/plain": [
       "Los Angeles    39984\n",
       "Miami          36233\n",
       "Charlotte      22203\n",
       "Houston        20843\n",
       "Dallas         19497\n",
       "Sacramento     18431\n",
       "Orlando        16169\n",
       "Portland       14805\n",
       "San Diego      14090\n",
       "Minneapolis    12653\n",
       "Name: City, dtype: int64"
      ]
     },
     "execution_count": 20,
     "metadata": {},
     "output_type": "execute_result"
    }
   ],
   "source": [
    "city_accidents = df.City.value_counts()\n",
    "city_accidents[:10]"
   ]
  },
  {
   "cell_type": "markdown",
   "id": "729e3707",
   "metadata": {},
   "source": [
    "- From this we can see that LA, Miami,Charlotte and Houston are the top 4 cities with highest accidents"
   ]
  },
  {
   "cell_type": "code",
   "execution_count": 21,
   "id": "48fd4bac",
   "metadata": {},
   "outputs": [
    {
     "data": {
      "text/plain": [
       "<AxesSubplot:>"
      ]
     },
     "execution_count": 21,
     "metadata": {},
     "output_type": "execute_result"
    },
    {
     "data": {
      "image/png": "[encoded data removed]",
      "text/plain": [
       "<Figure size 432x288 with 1 Axes>"
      ]
     },
     "metadata": {
      "needs_background": "light"
     },
     "output_type": "display_data"
    }
   ],
   "source": [
    "city_accidents[:30].plot(kind = \"barh\")"
   ]
  },
  {
   "cell_type": "markdown",
   "id": "d41dc40f",
   "metadata": {},
   "source": [
    "- From this we can see that there a lot of cities from California(LA, Sacramento, San Antonio, San Jose, San Diego) which matches our observation that California is the highest state where accidents occur, the second is Miami and Texas being the next highest(Houstan, Dallas and Austin) are among the top cities."
   ]
  },
  {
   "cell_type": "code",
   "execution_count": 22,
   "id": "194ab3d3",
   "metadata": {},
   "outputs": [],
   "source": [
    "high_accidents = city_accidents[city_accidents>1000]"
   ]
  },
  {
   "cell_type": "markdown",
   "id": "10bd2ee8",
   "metadata": {},
   "source": [
    "- Most Accident prone cities"
   ]
  },
  {
   "cell_type": "code",
   "execution_count": 23,
   "id": "31324d34",
   "metadata": {},
   "outputs": [
    {
     "data": {
      "text/plain": [
       "Los Angeles    39984\n",
       "Miami          36233\n",
       "Charlotte      22203\n",
       "Houston        20843\n",
       "Dallas         19497\n",
       "               ...  \n",
       "Elgin           1007\n",
       "Chandler        1006\n",
       "Palo Alto       1006\n",
       "Sandy           1001\n",
       "Flushing        1001\n",
       "Name: City, Length: 251, dtype: int64"
      ]
     },
     "execution_count": 23,
     "metadata": {},
     "output_type": "execute_result"
    }
   ],
   "source": [
    "high_accidents"
   ]
  },
  {
   "cell_type": "code",
   "execution_count": 24,
   "id": "a81b7a9b",
   "metadata": {},
   "outputs": [
    {
     "data": {
      "text/plain": [
       "0          2016-02-08 00:37:08\n",
       "1          2016-02-08 05:56:20\n",
       "2          2016-02-08 06:15:39\n",
       "3          2016-02-08 06:15:39\n",
       "4          2016-02-08 06:51:45\n",
       "                  ...         \n",
       "1516059    2019-08-23 18:03:25\n",
       "1516060    2019-08-23 19:11:30\n",
       "1516061    2019-08-23 19:00:21\n",
       "1516062    2019-08-23 19:00:21\n",
       "1516063    2019-08-23 18:52:06\n",
       "Name: Start_Time, Length: 1516064, dtype: object"
      ]
     },
     "execution_count": 24,
     "metadata": {},
     "output_type": "execute_result"
    }
   ],
   "source": [
    "#The start time of an accident is time marked\n",
    "df_1.Start_Time"
   ]
  },
  {
   "cell_type": "code",
   "execution_count": 25,
   "id": "95e9b0e0",
   "metadata": {},
   "outputs": [],
   "source": [
    "df_1.Start_Time =pd.to_datetime(df.Start_Time)"
   ]
  },
  {
   "cell_type": "code",
   "execution_count": 26,
   "id": "3083f0ed",
   "metadata": {},
   "outputs": [
    {
     "data": {
      "text/plain": [
       "0           0\n",
       "1           5\n",
       "2           6\n",
       "3           6\n",
       "4           6\n",
       "           ..\n",
       "1516059    18\n",
       "1516060    19\n",
       "1516061    19\n",
       "1516062    19\n",
       "1516063    18\n",
       "Name: Start_Time, Length: 1516064, dtype: int64"
      ]
     },
     "execution_count": 26,
     "metadata": {},
     "output_type": "execute_result"
    }
   ],
   "source": [
    "#Pulling the hour from this in order to check what time does most accidents occur\n",
    "df_1.Start_Time.dt.hour"
   ]
  },
  {
   "cell_type": "code",
   "execution_count": 27,
   "id": "7de0629e",
   "metadata": {},
   "outputs": [
    {
     "name": "stderr",
     "output_type": "stream",
     "text": [
      "/Users/rennithabraham/opt/anaconda3/lib/python3.8/site-packages/seaborn/distributions.py:2619: FutureWarning: `distplot` is a deprecated function and will be removed in a future version. Please adapt your code to use either `displot` (a figure-level function with similar flexibility) or `histplot` (an axes-level function for histograms).\n",
      "  warnings.warn(msg, FutureWarning)\n"
     ]
    },
    {
     "data": {
      "text/plain": [
       "<AxesSubplot:xlabel='Start_Time', ylabel='Density'>"
      ]
     },
     "execution_count": 27,
     "metadata": {},
     "output_type": "execute_result"
    },
    {
     "data": {
      "image/png": "[encoded data removed]",
      "text/plain": [
       "<Figure size 432x288 with 1 Axes>"
      ]
     },
     "metadata": {
      "needs_background": "light"
     },
     "output_type": "display_data"
    }
   ],
   "source": [
    "sns.distplot(df_1.Start_Time.dt.hour, bins = 30)"
   ]
  },
  {
   "cell_type": "markdown",
   "id": "78c4e512",
   "metadata": {},
   "source": [
    "- From this we can see that there is one huge peak between the time 5pm and 12pm at night showing that a lot of accidents occur at this time"
   ]
  },
  {
   "cell_type": "code",
   "execution_count": 28,
   "id": "5251c868",
   "metadata": {},
   "outputs": [],
   "source": [
    "#extracting month, year, hour and weekday from timestamp\n",
    "\n",
    "df_1[\"Month\"] = df_1[\"Start_Time\"].dt.month\n",
    "df_1[\"Year\"] = df_1[\"Start_Time\"].dt.year\n",
    "df_1[\"Hour\"] = df_1[\"Start_Time\"].dt.hour\n",
    "df_1[\"Weekday\"] = df_1[\"Start_Time\"].dt.weekday"
   ]
  },
  {
   "cell_type": "code",
   "execution_count": 29,
   "id": "94d3fcfe",
   "metadata": {},
   "outputs": [
    {
     "data": {
      "text/plain": [
       "array([2016, 2017, 2020, 2019, 2018])"
      ]
     },
     "execution_count": 29,
     "metadata": {},
     "output_type": "execute_result"
    }
   ],
   "source": [
    "df_1.Year.unique()"
   ]
  },
  {
   "cell_type": "code",
   "execution_count": 30,
   "id": "91017eb2",
   "metadata": {},
   "outputs": [
    {
     "data": {
      "image/png": "[encoded data removed]",
      "text/plain": [
       "<Figure size 576x360 with 1 Axes>"
      ]
     },
     "metadata": {
      "needs_background": "light"
     },
     "output_type": "display_data"
    }
   ],
   "source": [
    "fig = plt.figure(figsize = (8,5))\n",
    "sns.countplot(x = \"Year\", data = df_1)\n",
    "plt.title(\"Accidents in a year\")\n",
    "plt.show()"
   ]
  },
  {
   "cell_type": "markdown",
   "id": "e33c0a65",
   "metadata": {},
   "source": [
    "- Here we can see that we have the years from 2016 to 2020 has a vast difference between the number of accidents from the year 2016 to 2017"
   ]
  },
  {
   "cell_type": "code",
   "execution_count": 52,
   "id": "2c8b23fd",
   "metadata": {},
   "outputs": [],
   "source": [
    "#Subsetting the Year Column\n",
    "\n",
    "df_1_2016 = df_1[df_1.Start_Time.dt.year == 2016]\n",
    "df_1_2017 = df_1[df_1.Start_Time.dt.year == 2017]\n",
    "df_1_2018 = df_1[df_1.Start_Time.dt.year == 2018]\n",
    "df_1_2019 = df_1[df_1.Start_Time.dt.year == 2019]\n",
    "df_1_2020 = df_1[df_1.Start_Time.dt.year == 2020]\n"
   ]
  },
  {
   "cell_type": "code",
   "execution_count": 32,
   "id": "4be135e6",
   "metadata": {},
   "outputs": [
    {
     "data": {
      "image/png": "[encoded data removed]",
      "text/plain": [
       "<Figure size 576x360 with 1 Axes>"
      ]
     },
     "metadata": {
      "needs_background": "light"
     },
     "output_type": "display_data"
    }
   ],
   "source": [
    "#Monthly accidents in 2016\n",
    "\n",
    "fig = plt.figure(figsize = (8,5))\n",
    "sns.countplot(x = \"Month\", data = df_1_2016)\n",
    "plt.title(\"Accidents throughout 2016\")\n",
    "plt.show()"
   ]
  },
  {
   "cell_type": "code",
   "execution_count": 54,
   "id": "6fb637f7",
   "metadata": {},
   "outputs": [
    {
     "data": {
      "image/png": "[encoded data removed]",
      "text/plain": [
       "<Figure size 576x360 with 1 Axes>"
      ]
     },
     "metadata": {
      "needs_background": "light"
     },
     "output_type": "display_data"
    }
   ],
   "source": [
    "fig = plt.figure(figsize = (8,5))\n",
    "sns.countplot(x = \"Month\", data = df_1_2017)\n",
    "plt.title(\"Accidents throughout 2017\")\n",
    "plt.show()"
   ]
  },
  {
   "cell_type": "code",
   "execution_count": 55,
   "id": "5b41df08",
   "metadata": {},
   "outputs": [
    {
     "data": {
      "image/png": "[encoded data removed]",
      "text/plain": [
       "<Figure size 576x360 with 1 Axes>"
      ]
     },
     "metadata": {
      "needs_background": "light"
     },
     "output_type": "display_data"
    }
   ],
   "source": [
    "fig = plt.figure(figsize = (8,5))\n",
    "sns.countplot(x = \"Month\", data = df_1_2018)\n",
    "plt.title(\"Accidents throughout 2018\")\n",
    "plt.show()"
   ]
  },
  {
   "cell_type": "code",
   "execution_count": 56,
   "id": "3493105f",
   "metadata": {},
   "outputs": [
    {
     "data": {
      "image/png": "[encoded data removed]",
      "text/plain": [
       "<Figure size 576x360 with 1 Axes>"
      ]
     },
     "metadata": {
      "needs_background": "light"
     },
     "output_type": "display_data"
    }
   ],
   "source": [
    "fig = plt.figure(figsize = (8,5))\n",
    "sns.countplot(x = \"Month\", data = df_1_2019)\n",
    "plt.title(\"Accidents throughout 2019\")\n",
    "plt.show()"
   ]
  },
  {
   "cell_type": "code",
   "execution_count": 57,
   "id": "59c94925",
   "metadata": {},
   "outputs": [
    {
     "data": {
      "image/png": "[encoded data removed]",
      "text/plain": [
       "<Figure size 576x360 with 1 Axes>"
      ]
     },
     "metadata": {
      "needs_background": "light"
     },
     "output_type": "display_data"
    }
   ],
   "source": [
    "fig = plt.figure(figsize = (8,5))\n",
    "sns.countplot(x = \"Month\", data = df_1_2020)\n",
    "plt.title(\"Accidents throughout 2020\")\n",
    "plt.show()"
   ]
  },
  {
   "cell_type": "code",
   "execution_count": 33,
   "id": "c7439d71",
   "metadata": {},
   "outputs": [
    {
     "data": {
      "text/plain": [
       "array([ 4.210e+01,  3.690e+01,  3.600e+01,  3.900e+01,  3.700e+01,\n",
       "        3.560e+01,  3.380e+01,  3.310e+01,  3.200e+01,  3.510e+01,\n",
       "        3.400e+01,  3.340e+01,  2.800e+01,  2.660e+01,  2.500e+01,\n",
       "        2.300e+01,  2.100e+01,  1.900e+01,  2.120e+01,  2.190e+01,\n",
       "        1.940e+01,  2.250e+01,  2.410e+01,  3.020e+01,  3.180e+01,\n",
       "        3.000e+01,  2.890e+01,  3.090e+01,  1.990e+01,  1.580e+01,\n",
       "        1.710e+01,  1.220e+01,  1.400e+01,  1.530e+01,  1.760e+01,\n",
       "        2.480e+01,  1.800e+01,  1.600e+01,  7.000e+00,  1.200e+01,\n",
       "        1.510e+01,  9.000e+00,  9.100e+00,  1.650e+01,  1.290e+01,\n",
       "        1.000e+01,  6.100e+00,  8.100e+00,  5.000e+00,  3.000e+00,\n",
       "              nan,  2.280e+01,  2.520e+01,  2.700e+01,  2.430e+01,\n",
       "        2.570e+01,  2.980e+01,  3.220e+01,  2.840e+01,  3.300e+01,\n",
       "        3.790e+01,  3.240e+01,  3.270e+01,  1.090e+01,  4.300e+01,\n",
       "        3.990e+01,  5.110e+01,  4.690e+01,  4.800e+01,  3.740e+01,\n",
       "        5.310e+01,  6.400e+01,  5.000e+01,  4.890e+01,  6.100e+01,\n",
       "        5.360e+01,  5.700e+01,  6.170e+01,  5.400e+01,  6.010e+01,\n",
       "        6.490e+01,  5.200e+01,  6.690e+01,  5.790e+01,  6.300e+01,\n",
       "        5.590e+01,  6.910e+01,  6.800e+01,  3.490e+01,  2.620e+01,\n",
       "        3.420e+01,  4.600e+01,  4.410e+01,  2.610e+01,  3.920e+01,\n",
       "        5.540e+01,  5.500e+01,  4.010e+01,  4.620e+01,  4.100e+01,\n",
       "        4.280e+01,  3.290e+01,  4.640e+01,  4.500e+01,  3.250e+01,\n",
       "        3.130e+01,  3.160e+01,  2.910e+01,  2.770e+01,  3.110e+01,\n",
       "        4.460e+01,  2.750e+01,  4.820e+01,  4.770e+01,  6.260e+01,\n",
       "        4.960e+01,  5.340e+01,  5.830e+01,  5.900e+01,  6.600e+01,\n",
       "        6.210e+01,  7.000e+01,  7.110e+01,  7.390e+01,  7.200e+01,\n",
       "        6.820e+01,  7.300e+01,  6.440e+01,  5.580e+01,  5.720e+01,\n",
       "        6.080e+01,  7.700e+01,  5.180e+01,  5.810e+01,  5.850e+01,\n",
       "        4.710e+01,  4.750e+01,  3.970e+01,  5.610e+01,  5.670e+01,\n",
       "        6.620e+01,  5.380e+01,  6.040e+01,  7.500e+01,  8.010e+01,\n",
       "        5.680e+01,  3.780e+01,  4.660e+01,  6.120e+01,  3.670e+01,\n",
       "        6.980e+01,  7.160e+01,  7.070e+01,  6.760e+01,  6.480e+01,\n",
       "        6.420e+01,  5.040e+01,  7.900e+01,  5.520e+01,  7.520e+01,\n",
       "        7.340e+01,  7.590e+01,  7.810e+01,  6.730e+01,  8.290e+01,\n",
       "        8.060e+01,  8.100e+01,  8.400e+01,  7.880e+01,  8.240e+01,\n",
       "        8.420e+01,  8.800e+01,  8.200e+01,  8.600e+01,  8.490e+01,\n",
       "        8.710e+01,  6.510e+01,  8.780e+01,  9.100e+01,  8.260e+01,\n",
       "        6.220e+01,  7.360e+01,  5.320e+01,  6.840e+01,  5.560e+01,\n",
       "        7.100e+01,  8.960e+01,  8.910e+01,  9.000e+01,  9.140e+01,\n",
       "        9.190e+01,  5.650e+01,  9.300e+01,  9.320e+01,  9.390e+01,\n",
       "        9.610e+01,  9.500e+01,  8.690e+01,  6.850e+01,  6.280e+01,\n",
       "        8.460e+01,  7.990e+01,  8.620e+01,  6.570e+01,  9.700e+01,\n",
       "        9.900e+01,  9.860e+01,  9.810e+01,  1.000e+02,  1.029e+02,\n",
       "        7.970e+01,  1.020e+02,  6.310e+01,  9.680e+01,  1.009e+02,\n",
       "        1.004e+02,  1.010e+02,  7.830e+01,  6.670e+01,  7.630e+01,\n",
       "        7.430e+01,  7.140e+01,  7.120e+01,  3.940e+01,  4.590e+01,\n",
       "        5.070e+01,  8.300e+01,  7.740e+01,  7.920e+01,  7.410e+01,\n",
       "        6.460e+01,  6.000e+01,  5.450e+01,  5.800e+01,  5.600e+01,\n",
       "        5.290e+01,  5.300e+01,  5.490e+01,  4.840e+01,  7.180e+01,\n",
       "        7.720e+01,  5.970e+01,  8.640e+01,  7.090e+01,  9.200e+01,\n",
       "        6.710e+01,  6.390e+01,  5.940e+01,  7.400e+01,  8.040e+01,\n",
       "        8.510e+01,  8.470e+01,  4.910e+01,  7.470e+01,  8.170e+01,\n",
       "        7.020e+01,  7.320e+01,  6.640e+01,  4.900e+01,  6.200e+01,\n",
       "        6.890e+01,  5.100e+01,  6.750e+01,  7.930e+01,  6.700e+01,\n",
       "        7.600e+01,  6.060e+01,  6.900e+01,  9.050e+01,  6.940e+01,\n",
       "        7.210e+01,  8.380e+01,  8.130e+01,  5.880e+01,  7.290e+01,\n",
       "        7.950e+01,  6.780e+01,  6.660e+01,  6.550e+01,  7.030e+01,\n",
       "        6.190e+01,  5.950e+01,  6.930e+01,  6.500e+01,  8.000e+01,\n",
       "        6.240e+01,  7.450e+01,  7.800e+01,  7.770e+01,  6.370e+01,\n",
       "        1.071e+02,  8.080e+01,  7.570e+01,  7.560e+01,  1.040e+02,\n",
       "        8.280e+01,  8.440e+01,  7.840e+01,  7.050e+01,  7.790e+01,\n",
       "        8.500e+01,  8.700e+01,  8.900e+01,  9.160e+01,  1.022e+02,\n",
       "        1.051e+02,  1.076e+02,  1.058e+02,  1.119e+02,  1.011e+02,\n",
       "        1.080e+02,  3.810e+01,  3.830e+01,  3.580e+01,  3.800e+01,\n",
       "        3.540e+01,  5.770e+01,  5.430e+01,  4.860e+01,  4.780e+01,\n",
       "        4.550e+01,  2.880e+01,  4.730e+01,  4.350e+01,  3.070e+01,\n",
       "        2.820e+01,  1.330e+01,  2.390e+01,  2.140e+01,  3.880e+01,\n",
       "        4.140e+01,  4.570e+01,  8.600e+00,  1.130e+01,  3.900e+00,\n",
       "        2.030e+01,  6.800e+00,  1.560e+01,  3.650e+01,  1.850e+01,\n",
       "        1.670e+01,  3.360e+01,  1.920e+01,  3.720e+01,  3.470e+01,\n",
       "        3.200e+00,  4.800e+00,  1.720e+01,  2.300e+00,  4.030e+01,\n",
       "        1.900e+00,  1.000e+00, -4.000e-01, -9.000e-01, -2.000e+00,\n",
       "       -0.000e+00,  5.500e+00,  4.100e+00,  1.040e+01, -9.400e+00,\n",
       "       -9.900e+00,  7.700e+00, -1.160e+01, -7.100e+00, -6.000e+00,\n",
       "       -1.100e+01, -5.100e+00, -1.190e+01, -8.500e+00, -8.000e+00,\n",
       "        2.640e+01,  4.190e+01,  5.020e+01,  6.300e+00, -9.000e+00,\n",
       "        1.180e+01,  2.170e+01,  2.530e+01,  1.450e+01,  1.270e+01,\n",
       "        8.200e+00,  2.930e+01,  5.470e+01,  5.760e+01, -4.000e+00,\n",
       "       -2.900e+00, -2.200e+00,  1.400e+00, -1.500e+01, -1.610e+01,\n",
       "       -1.800e+01, -1.410e+01, -7.600e+00,  1.490e+01,  1.830e+01,\n",
       "        2.050e+01,  4.700e+01,  3.630e+01,  4.370e+01,  4.240e+01,\n",
       "        4.170e+01,  4.150e+01,  3.610e+01,  4.680e+01,  4.320e+01,\n",
       "        4.390e+01,  5.270e+01,  3.870e+01,  5.160e+01,  9.500e+00,\n",
       "        2.550e+01,  5.220e+01,  7.680e+01,  4.440e+01,  4.330e+01,\n",
       "        2.340e+01,  5.130e+01,  2.370e+01,  3.520e+01,  5.700e+00,\n",
       "        2.260e+01, -5.800e+00, -1.300e+01,  9.900e+00, -1.120e+01,\n",
       "        5.000e-01,  1.700e+01,  1.110e+01,  2.010e+01,  1.690e+01,\n",
       "       -6.200e+00, -8.100e+00,  1.740e+01,  1.780e+01,  4.980e+01,\n",
       "        5.860e+01,  2.440e+01,  5.920e+01,  6.030e+01,  1.260e+01,\n",
       "        7.480e+01,  7.230e+01,  2.230e+01,  6.580e+01, -1.340e+01,\n",
       "       -1.070e+01,  6.870e+01, -6.900e+00,  6.600e+00,  2.680e+01,\n",
       "        3.150e+01,  2.970e+01,  4.930e+01,  4.420e+01,  5.140e+01,\n",
       "        5.090e+01,  4.510e+01,  6.350e+01,  4.260e+01,  8.220e+01,\n",
       "        1.060e+01,  2.950e+01,  6.960e+01,  3.960e+01,  4.080e+01,\n",
       "        5.410e+01,  1.274e+02,  7.250e+01,  6.330e+01,  4.480e+01,\n",
       "        7.750e+01,  6.530e+01,  4.120e+01,  6.150e+01,  4.530e+01,\n",
       "        7.270e+01,  3.450e+01,  3.430e+01,  5.740e+01,  4.230e+01,\n",
       "        5.630e+01,  7.610e+01,  4.950e+01,  2.210e+01,  4.870e+01,\n",
       "        4.200e+01,  3.330e+01,  3.760e+01,  5.050e+01,  2.710e+01,\n",
       "        9.090e+01,  8.870e+01,  9.070e+01,  8.980e+01,  7.660e+01,\n",
       "        8.020e+01,  9.340e+01,  7.650e+01,  9.010e+01,  8.110e+01,\n",
       "        9.180e+01,  5.230e+01,  8.370e+01,  7.540e+01,  5.990e+01,\n",
       "        8.760e+01,  8.330e+01,  5.250e+01,  7.380e+01,  6.130e+01,\n",
       "        1.292e+02,  8.830e+01,  1.184e+02,  8.820e+01,  8.550e+01,\n",
       "        9.570e+01,  9.720e+01,  9.250e+01,  9.360e+01,  9.030e+01,\n",
       "        8.580e+01,  9.370e+01,  9.430e+01,  9.730e+01,  8.890e+01,\n",
       "        8.350e+01,  1.015e+02,  8.530e+01,  8.920e+01,  9.460e+01,\n",
       "        8.560e+01,  7.860e+01,  8.150e+01,  8.730e+01,  9.280e+01,\n",
       "        8.650e+01,  9.410e+01,  8.190e+01,  8.850e+01,  9.600e+01,\n",
       "        9.480e+01,  9.400e+01,  9.800e+01,  9.120e+01,  9.230e+01,\n",
       "        9.540e+01,  9.880e+01,  9.640e+01,  8.940e+01,  9.550e+01,\n",
       "        9.660e+01,  9.210e+01,  9.450e+01,  3.850e+01,  4.060e+01,\n",
       "        4.050e+01,  2.350e+01,  2.590e+01,  3.060e+01,  1.870e+01,\n",
       "        1.810e+01,  2.200e+01,  1.620e+01,  2.860e+01,  1.310e+01,\n",
       "        1.150e+01,  1.890e+01,  1.020e+01,  7.300e+00,  1.380e+01,\n",
       "       -6.000e-01,  4.600e+00,  5.900e+00,  1.170e+01,  1.350e+01,\n",
       "        1.240e+01,  4.500e+00,  1.440e+01,  2.320e+01,  2.730e+01,\n",
       "        1.980e+01, -1.700e+00, -2.600e+00, -2.400e+00, -9.600e+00,\n",
       "        3.700e+00, -8.900e+00,  6.400e+00,  2.070e+01,  1.080e+01,\n",
       "        1.470e+01,  3.040e+01,  2.160e+01, -7.200e+00,  8.400e+00,\n",
       "        2.400e+01,  1.540e+01,  2.460e+01,  1.360e+01,  9.700e+00,\n",
       "        3.100e+01,  1.420e+01,  2.000e+01,  4.400e+01,  8.670e+01,\n",
       "        8.310e+01,  9.270e+01,  8.740e+01,  9.590e+01,  9.520e+01,\n",
       "        9.790e+01,  2.900e+01, -2.020e+01,  3.500e+01,  4.000e+01,\n",
       "       -5.000e+00,  1.960e+01,  2.080e+01,  7.900e+00,  2.790e+01,\n",
       "        1.300e+01,  1.060e+02,  9.840e+01,  1.094e+02,  1.141e+02,\n",
       "        1.090e+02,  1.112e+02,  1.130e+02,  1.110e+02,  1.069e+02,\n",
       "        1.098e+02,  1.099e+02,  1.006e+02,  1.002e+02,  1.072e+02,\n",
       "        9.930e+01,  8.000e+00,  1.047e+02,  9.990e+01,  1.008e+02,\n",
       "        1.049e+02,  1.024e+02,  9.770e+01,  1.027e+02,  1.026e+02,\n",
       "        1.035e+02,  1.070e+02,  1.150e+02,  9.750e+01,  1.017e+02,\n",
       "        1.100e+01,  9.300e+00,  1.500e+01,  2.600e+01,  1.180e+02,\n",
       "        1.161e+02,  1.166e+02,  1.148e+02,  1.170e+02,  1.054e+02,\n",
       "        1.044e+02,  1.018e+02,  1.096e+02,  9.950e+01,  1.013e+02,\n",
       "        1.063e+02,  1.065e+02,  1.030e+02,  6.000e+00, -1.000e+00,\n",
       "        2.000e+00, -3.000e+00,  4.000e+00, -5.800e+01,  1.050e+02,\n",
       "       -7.000e+00, -1.000e+01, -5.000e+01, -1.700e+01, -1.400e+01,\n",
       "        1.100e+02, -8.900e+01, -2.000e+01, -2.700e+01, -2.400e+01,\n",
       "       -2.200e+01, -2.600e+01, -1.600e+01, -1.900e+01, -1.200e+01,\n",
       "       -2.500e+01, -1.590e+01, -1.280e+01,  1.800e+00,  1.200e+00,\n",
       "       -4.200e+00, -1.100e+00,  2.500e+00,  5.400e+00, -1.480e+01,\n",
       "        1.706e+02,  1.630e+01, -9.800e+00, -2.000e-01,  7.500e+00,\n",
       "       -2.090e+01, -2.330e+01, -1.890e+01, -2.310e+01, -2.560e+01,\n",
       "       -2.240e+01, -2.380e+01, -6.700e+00,  3.400e+00, -1.080e+01,\n",
       "        9.000e-01, -4.900e+00, -1.390e+01, -2.700e+00,  7.200e+00,\n",
       "       -3.500e+00,  2.800e+00, -4.400e+00, -1.300e+00, -3.600e+00,\n",
       "       -9.200e+00, -5.300e+00, -6.300e+00,  1.000e-01, -1.800e+00,\n",
       "       -1.660e+01, -2.510e+01, -2.900e+01, -2.650e+01, -1.350e+01,\n",
       "       -1.440e+01, -1.930e+01, -1.820e+01, -1.840e+01, -2.790e+01,\n",
       "       -2.740e+01, -2.110e+01, -2.130e+01, -1.790e+01,  9.630e+01,\n",
       "        1.036e+02,  1.033e+02,  9.970e+01,  1.688e+02,  1.101e+02,\n",
       "        1.038e+02,  1.053e+02,  1.042e+02,  1.085e+02, -4.000e+01,\n",
       "       -4.500e+00,  7.000e-01,  2.700e+00,  4.300e+00,  3.600e+00,\n",
       "       -1.500e+00, -7.800e+00, -1.210e+01, -1.030e+01, -1.140e+01,\n",
       "        8.800e+00, -8.000e-01, -5.600e+00, -8.300e+00, -7.780e+01,\n",
       "       -3.800e+00, -1.530e+01, -1.230e+01,  9.820e+01,  9.910e+01,\n",
       "        1.120e+02])"
      ]
     },
     "execution_count": 33,
     "metadata": {},
     "output_type": "execute_result"
    }
   ],
   "source": [
    "df_1[\"Temperature(F)\"].unique()"
   ]
  },
  {
   "cell_type": "code",
   "execution_count": 34,
   "id": "aee20c36",
   "metadata": {},
   "outputs": [
    {
     "data": {
      "text/plain": [
       " 59.0    32387\n",
       " 63.0    31595\n",
       " 68.0    30898\n",
       " 57.0    30862\n",
       " 64.0    30778\n",
       "         ...  \n",
       "-18.2        1\n",
       "-18.4        1\n",
       "-23.3        1\n",
       "-21.1        1\n",
       "-27.4        1\n",
       "Name: Temperature(F), Length: 775, dtype: int64"
      ]
     },
     "execution_count": 34,
     "metadata": {},
     "output_type": "execute_result"
    }
   ],
   "source": [
    "df_1[\"Temperature(F)\"].value_counts()"
   ]
  },
  {
   "cell_type": "code",
   "execution_count": 35,
   "id": "30345d99",
   "metadata": {},
   "outputs": [
    {
     "name": "stderr",
     "output_type": "stream",
     "text": [
      "/Users/rennithabraham/opt/anaconda3/lib/python3.8/site-packages/seaborn/distributions.py:2619: FutureWarning: `distplot` is a deprecated function and will be removed in a future version. Please adapt your code to use either `displot` (a figure-level function with similar flexibility) or `histplot` (an axes-level function for histograms).\n",
      "  warnings.warn(msg, FutureWarning)\n"
     ]
    },
    {
     "data": {
      "text/plain": [
       "<AxesSubplot:xlabel='Temperature(F)', ylabel='Density'>"
      ]
     },
     "execution_count": 35,
     "metadata": {},
     "output_type": "execute_result"
    },
    {
     "data": {
      "image/png": "[encoded data removed]",
      "text/plain": [
       "<Figure size 432x288 with 1 Axes>"
      ]
     },
     "metadata": {
      "needs_background": "light"
     },
     "output_type": "display_data"
    }
   ],
   "source": [
    "sns.distplot(df[\"Temperature(F)\"])"
   ]
  },
  {
   "cell_type": "markdown",
   "id": "68392b99",
   "metadata": {},
   "source": [
    "- We can see that at high temperature higher accidents tend to occur"
   ]
  },
  {
   "cell_type": "code",
   "execution_count": 36,
   "id": "28145e17",
   "metadata": {},
   "outputs": [
    {
     "data": {
      "text/plain": [
       "array(['Light Rain', 'Overcast', 'Mostly Cloudy', 'Snow', 'Light Snow',\n",
       "       'Cloudy', nan, 'Scattered Clouds', 'Clear', 'Partly Cloudy',\n",
       "       'Light Freezing Drizzle', 'Light Drizzle', 'Haze', 'Rain',\n",
       "       'Heavy Rain', 'Fair', 'Drizzle', 'Fog', 'Thunderstorms and Rain',\n",
       "       'Patches of Fog', 'Light Thunderstorms and Rain', 'Mist',\n",
       "       'Rain Showers', 'Light Rain Showers', 'Heavy Drizzle', 'Smoke',\n",
       "       'Light Freezing Fog', 'Light Freezing Rain', 'Blowing Snow',\n",
       "       'Heavy Thunderstorms and Rain', 'Heavy Snow', 'Snow Grains',\n",
       "       'Squalls', 'Light Fog', 'Shallow Fog', 'Thunderstorm',\n",
       "       'Light Ice Pellets', 'Thunder', 'Thunder in the Vicinity',\n",
       "       'Fair / Windy', 'Light Rain with Thunder',\n",
       "       'Heavy Thunderstorms and Snow', 'Light Snow Showers',\n",
       "       'Cloudy / Windy', 'Ice Pellets', 'N/A Precipitation',\n",
       "       'Light Thunderstorms and Snow', 'T-Storm', 'Rain / Windy',\n",
       "       'Wintry Mix', 'Partly Cloudy / Windy', 'Heavy T-Storm', 'Sand',\n",
       "       'Light Rain / Windy', 'Widespread Dust', 'Mostly Cloudy / Windy',\n",
       "       'Blowing Dust / Windy', 'Blowing Dust', 'Volcanic Ash',\n",
       "       'Freezing Rain / Windy', 'Small Hail', 'Wintry Mix / Windy',\n",
       "       'Light Snow / Windy', 'Heavy Ice Pellets', 'Heavy Snow / Windy',\n",
       "       'Heavy Rain / Windy', 'Heavy T-Storm / Windy', 'Fog / Windy',\n",
       "       'Dust Whirls', 'Showers in the Vicinity', 'Funnel Cloud',\n",
       "       'Haze / Windy', 'Light Rain Shower', 'Smoke / Windy',\n",
       "       'Light Drizzle / Windy', 'Snow / Windy', 'Partial Fog',\n",
       "       'Light Freezing Rain / Windy', 'Sleet', 'Blowing Snow / Windy',\n",
       "       'Snow and Sleet', 'Snow and Sleet / Windy', 'Squalls / Windy',\n",
       "       'Light Sleet / Windy', 'Freezing Drizzle', 'Freezing Rain',\n",
       "       'Thunder / Windy', 'Drizzle and Fog', 'Light Sleet',\n",
       "       'Thunder / Wintry Mix / Windy', 'Mist / Windy',\n",
       "       'Light Snow and Sleet', 'Rain Shower', 'Sleet / Windy',\n",
       "       'T-Storm / Windy', 'Light Snow and Sleet / Windy',\n",
       "       'Patches of Fog / Windy', 'Drizzle / Windy',\n",
       "       'Sand / Dust Whirls Nearby', 'Light Rain Shower / Windy',\n",
       "       'Heavy Rain Shower', 'Thunder and Hail', 'Drifting Snow',\n",
       "       'Light Snow Shower', 'Sand / Dust Whirlwinds',\n",
       "       'Heavy Blowing Snow', 'Hail', 'Heavy Freezing Drizzle',\n",
       "       'Low Drifting Snow', 'Light Blowing Snow', 'Heavy Rain Showers',\n",
       "       'Light Haze', 'Heavy Thunderstorms with Small Hail',\n",
       "       'Light Snow with Thunder', 'Heavy Snow with Thunder',\n",
       "       'Thunder and Hail / Windy', 'Tornado'], dtype=object)"
      ]
     },
     "execution_count": 36,
     "metadata": {},
     "output_type": "execute_result"
    }
   ],
   "source": [
    "df_1.Weather_Condition.unique()"
   ]
  },
  {
   "cell_type": "code",
   "execution_count": 37,
   "id": "6c0e82aa",
   "metadata": {},
   "outputs": [
    {
     "data": {
      "text/plain": [
       "Fair                     465252\n",
       "Mostly Cloudy            193595\n",
       "Clear                    180223\n",
       "Cloudy                   161291\n",
       "Partly Cloudy            133102\n",
       "                          ...  \n",
       "Dust Whirls                   1\n",
       "Drifting Snow                 1\n",
       "Thunder and Hail              1\n",
       "Mist / Windy                  1\n",
       "Freezing Rain / Windy         1\n",
       "Name: Weather_Condition, Length: 116, dtype: int64"
      ]
     },
     "execution_count": 37,
     "metadata": {},
     "output_type": "execute_result"
    }
   ],
   "source": [
    "df_1.Weather_Condition.value_counts()"
   ]
  },
  {
   "cell_type": "markdown",
   "id": "71d52c89",
   "metadata": {},
   "source": [
    "- We can infer that a majority of accidents occur when it is Clear, Overcast and Mostly Cloudy"
   ]
  },
  {
   "cell_type": "code",
   "execution_count": 38,
   "id": "6e04886f",
   "metadata": {},
   "outputs": [
    {
     "data": {
      "text/plain": [
       "array([ 58.,  91.,  97.,  55.,  93., 100.,  92.,  70.,  96.,  79.,  88.,\n",
       "        80.,  86.,  82.,  90.,  74.,  84.,  81.,  73.,  77.,  85.,  78.,\n",
       "        68.,  75.,  63.,  65.,  57.,  56.,  87.,  59.,  60.,  83.,  62.,\n",
       "        48.,  71.,  54.,  52.,  46.,  42.,  50.,  41.,  51.,  66.,  67.,\n",
       "        nan,  89.,  94.,  76.,  69.,  72.,  31.,  44.,  38.,  49.,  45.,\n",
       "        35.,  29.,  43.,  32.,  33.,  34.,  26.,  47.,  37.,  30.,  40.,\n",
       "        61.,  64.,  53.,  99.,  27.,  39.,  17.,  28.,  24.,  98.,  95.,\n",
       "        36.,  23.,  18.,  19.,  22.,  21.,  25.,   4.,  11.,  20.,  15.,\n",
       "        12.,  16.,  14.,  13.,   9.,  10.,   7.,   5.,   8.,   6.,   2.,\n",
       "         3.,   1.])"
      ]
     },
     "execution_count": 38,
     "metadata": {},
     "output_type": "execute_result"
    }
   ],
   "source": [
    "df_1[\"Humidity(%)\"] .unique()"
   ]
  },
  {
   "cell_type": "code",
   "execution_count": 39,
   "id": "5f2a0c06",
   "metadata": {},
   "outputs": [
    {
     "data": {
      "text/plain": [
       "93.0     58126\n",
       "100.0    53509\n",
       "89.0     32328\n",
       "87.0     31189\n",
       "90.0     30850\n",
       "         ...  \n",
       "5.0       1246\n",
       "4.0        724\n",
       "3.0        246\n",
       "2.0         88\n",
       "1.0         11\n",
       "Name: Humidity(%), Length: 100, dtype: int64"
      ]
     },
     "execution_count": 39,
     "metadata": {},
     "output_type": "execute_result"
    }
   ],
   "source": [
    "df_1[\"Humidity(%)\"].value_counts()"
   ]
  },
  {
   "cell_type": "code",
   "execution_count": 40,
   "id": "69a2aa21",
   "metadata": {},
   "outputs": [
    {
     "name": "stderr",
     "output_type": "stream",
     "text": [
      "/Users/rennithabraham/opt/anaconda3/lib/python3.8/site-packages/seaborn/_decorators.py:36: FutureWarning: Pass the following variable as a keyword arg: x. From version 0.12, the only valid positional argument will be `data`, and passing other arguments without an explicit keyword will result in an error or misinterpretation.\n",
      "  warnings.warn(\n"
     ]
    },
    {
     "data": {
      "text/plain": [
       "<AxesSubplot:xlabel='Humidity(%)'>"
      ]
     },
     "execution_count": 40,
     "metadata": {},
     "output_type": "execute_result"
    },
    {
     "data": {
      "image/png": "[encoded data removed]",
      "text/plain": [
       "<Figure size 432x288 with 1 Axes>"
      ]
     },
     "metadata": {
      "needs_background": "light"
     },
     "output_type": "display_data"
    }
   ],
   "source": [
    "sns.boxplot(df_1[\"Humidity(%)\"])"
   ]
  },
  {
   "cell_type": "markdown",
   "id": "0a66ed6e",
   "metadata": {},
   "source": [
    "- When humidity is between 60-80 there are more accidents"
   ]
  },
  {
   "cell_type": "code",
   "execution_count": 41,
   "id": "ee532fac",
   "metadata": {},
   "outputs": [
    {
     "data": {
      "text/plain": [
       "array([1.00e+01, 3.00e+00, 5.00e-01, 1.80e+00, 1.00e+00, 6.00e+00,\n",
       "       8.00e+00, 2.00e+00, 1.50e+00, 1.20e+00, 5.00e+00, 2.50e+00,\n",
       "       4.00e+00, 8.00e-01, 7.00e+00, 9.00e+00,      nan, 7.50e-01,\n",
       "       2.00e+01, 2.50e-01, 2.00e-01, 1.50e+01, 3.00e+01, 5.50e+00,\n",
       "       1.30e+01, 6.00e+01, 5.00e+01, 3.50e+01, 2.50e+01, 1.00e-01,\n",
       "       0.00e+00, 1.10e+01, 7.00e+01, 1.20e+01, 4.00e+01, 6.20e+00,\n",
       "       1.11e+02, 2.20e+00, 3.50e+00, 1.90e+01, 1.05e+01, 4.50e+01,\n",
       "       4.00e-01, 7.00e-01, 4.20e+00, 8.00e+01, 5.40e+01, 2.80e+00,\n",
       "       6.00e-01, 1.10e+00, 1.60e+00, 9.00e-01, 1.20e-01, 3.80e-01,\n",
       "       6.00e-02, 8.80e-01, 7.50e+01, 6.30e-01, 1.20e+02, 1.00e+02,\n",
       "       9.90e-01, 1.90e-01, 4.70e+01, 9.00e+01, 2.20e+01, 3.40e+01,\n",
       "       1.10e+02, 1.30e+02, 1.40e+00, 1.90e+00, 6.30e+01, 4.30e+01,\n",
       "       3.60e+01, 1.40e+01, 1.40e+02])"
      ]
     },
     "execution_count": 41,
     "metadata": {},
     "output_type": "execute_result"
    }
   ],
   "source": [
    "df_1[\"Visibility(mi)\"].unique()"
   ]
  },
  {
   "cell_type": "code",
   "execution_count": 42,
   "id": "18b9cc35",
   "metadata": {},
   "outputs": [
    {
     "data": {
      "text/plain": [
       "10.0     1178150\n",
       "7.0        44433\n",
       "9.0        37704\n",
       "8.0        30265\n",
       "5.0        28883\n",
       "          ...   \n",
       "130.0          1\n",
       "110.0          1\n",
       "19.0           1\n",
       "0.7            1\n",
       "140.0          1\n",
       "Name: Visibility(mi), Length: 74, dtype: int64"
      ]
     },
     "execution_count": 42,
     "metadata": {},
     "output_type": "execute_result"
    }
   ],
   "source": [
    "df_1[\"Visibility(mi)\"].value_counts()"
   ]
  },
  {
   "cell_type": "code",
   "execution_count": 43,
   "id": "0ea6a848",
   "metadata": {},
   "outputs": [
    {
     "data": {
      "text/plain": [
       "<AxesSubplot:xlabel='Visibility(mi)', ylabel='Count'>"
      ]
     },
     "execution_count": 43,
     "metadata": {},
     "output_type": "execute_result"
    },
    {
     "data": {
      "image/png": "[encoded data removed]",
      "text/plain": [
       "<Figure size 432x288 with 1 Axes>"
      ]
     },
     "metadata": {
      "needs_background": "light"
     },
     "output_type": "display_data"
    }
   ],
   "source": [
    "sns.histplot(df_1[\"Visibility(mi)\"])"
   ]
  },
  {
   "cell_type": "code",
   "execution_count": 44,
   "id": "393c8f06",
   "metadata": {},
   "outputs": [
    {
     "data": {
      "text/plain": [
       "array([False,  True])"
      ]
     },
     "execution_count": 44,
     "metadata": {},
     "output_type": "execute_result"
    }
   ],
   "source": [
    "df_1[\"Traffic_Signal\"].unique()"
   ]
  },
  {
   "cell_type": "code",
   "execution_count": 45,
   "id": "aafe5f5f",
   "metadata": {},
   "outputs": [
    {
     "data": {
      "text/plain": [
       "False    1346095\n",
       "True      169969\n",
       "Name: Traffic_Signal, dtype: int64"
      ]
     },
     "execution_count": 45,
     "metadata": {},
     "output_type": "execute_result"
    }
   ],
   "source": [
    "df_1[\"Traffic_Signal\"].value_counts()"
   ]
  },
  {
   "cell_type": "code",
   "execution_count": 46,
   "id": "ba145244",
   "metadata": {},
   "outputs": [
    {
     "data": {
      "text/plain": [
       "<AxesSubplot:ylabel='Traffic_Signal'>"
      ]
     },
     "execution_count": 46,
     "metadata": {},
     "output_type": "execute_result"
    },
    {
     "data": {
      "image/png": "[encoded data removed]",
      "text/plain": [
       "<Figure size 432x288 with 1 Axes>"
      ]
     },
     "metadata": {},
     "output_type": "display_data"
    }
   ],
   "source": [
    "df_1[\"Traffic_Signal\"].value_counts().plot(kind = \"pie\")"
   ]
  },
  {
   "cell_type": "markdown",
   "id": "cd5bb7d2",
   "metadata": {},
   "source": [
    "- we can see that traffic signals can be a couse for an increase in accidents"
   ]
  },
  {
   "cell_type": "code",
   "execution_count": 47,
   "id": "effde327",
   "metadata": {},
   "outputs": [
    {
     "data": {
      "text/plain": [
       "<AxesSubplot:ylabel='Junction'>"
      ]
     },
     "execution_count": 47,
     "metadata": {},
     "output_type": "execute_result"
    },
    {
     "data": {
      "image/png": "[encoded data removed]",
      "text/plain": [
       "<Figure size 432x288 with 1 Axes>"
      ]
     },
     "metadata": {},
     "output_type": "display_data"
    }
   ],
   "source": [
    "df_1[\"Junction\"].value_counts().plot(kind = \"pie\")"
   ]
  },
  {
   "cell_type": "markdown",
   "id": "5c365c15",
   "metadata": {},
   "source": [
    "- We can see that accidents occur at junctions and hence better precautions are needed"
   ]
  },
  {
   "cell_type": "code",
   "execution_count": 48,
   "id": "28edb200",
   "metadata": {},
   "outputs": [
    {
     "data": {
      "text/plain": [
       "array([3, 2, 4, 1])"
      ]
     },
     "execution_count": 48,
     "metadata": {},
     "output_type": "execute_result"
    }
   ],
   "source": [
    "df_1[\"Severity\"].unique()"
   ]
  },
  {
   "cell_type": "code",
   "execution_count": 49,
   "id": "89ba8805",
   "metadata": {},
   "outputs": [
    {
     "data": {
      "text/plain": [
       "2    1212382\n",
       "3     161052\n",
       "4     114452\n",
       "1      28178\n",
       "Name: Severity, dtype: int64"
      ]
     },
     "execution_count": 49,
     "metadata": {},
     "output_type": "execute_result"
    }
   ],
   "source": [
    "df_1[\"Severity\"].value_counts()"
   ]
  },
  {
   "cell_type": "code",
   "execution_count": 50,
   "id": "16831d50",
   "metadata": {},
   "outputs": [
    {
     "data": {
      "image/png": "[encoded data removed]",
      "text/plain": [
       "<Figure size 1440x360 with 1 Axes>"
      ]
     },
     "metadata": {
      "needs_background": "light"
     },
     "output_type": "display_data"
    }
   ],
   "source": [
    "fig = plt.figure(figsize = (20,5))\n",
    "sns.countplot(x = \"Severity\", data = df_1)\n",
    "plt.title(\"Severity of Accidents\")\n",
    "plt.show()"
   ]
  },
  {
   "cell_type": "markdown",
   "id": "2a04d9c3",
   "metadata": {},
   "source": [
    "- We can see that Severity 2 is the highest "
   ]
  },
  {
   "cell_type": "code",
   "execution_count": 51,
   "id": "efbee060",
   "metadata": {},
   "outputs": [
    {
     "data": {
      "image/png": "[encoded data removed]",
      "text/plain": [
       "<Figure size 1440x360 with 1 Axes>"
      ]
     },
     "metadata": {
      "needs_background": "light"
     },
     "output_type": "display_data"
    }
   ],
   "source": [
    "df_state = df_1.groupby('State').sum('Severity')[['Severity']]\n",
    "df_state = df_state.reset_index().sort_values('Severity', ascending = False)[:50]\n",
    "fig, ax = plt.subplots(figsize = (20,5))\n",
    "c = sns.barplot(x = 'State', y = 'Severity', data = df_state, orient = 'v', palette = \"crest_r\")\n",
    "c.set_title(\"Top State with Highest Severity\")\n",
    "plt.show()\n"
   ]
  },
  {
   "cell_type": "markdown",
   "id": "df8b6ce5",
   "metadata": {},
   "source": [
    "- Conslusions\n",
    "\n",
    "* the top 4 accident prone states were California, Florida, Oregon and Texas\n",
    "* the top cities with the most accidents was LA,Miami Houstan and Dallas, in this visualisation we also saw that many of the states from California were in this plot, which is inline with pur observations we made from the previous graph\n",
    "* Time periods between 5pm and 12pm have a high frequency of accidents, this might be due to the factor most individuals are on their way back from work\n",
    "* We can see that between the year 202 had a higher rate of accidents and also the month of December in all the years had a extremely high rate of accidents\n",
    "* We then also infer that many accidents occur at traffic signals and at jjuntions and hence more signs/precautions like speed bumps need to be put up at these places.\n",
    "\n"
   ]
  },
  {
   "cell_type": "code",
   "execution_count": null,
   "id": "4223d8c9",
   "metadata": {},
   "outputs": [],
   "source": []
  }
 ],
 "metadata": {
  "kernelspec": {
   "display_name": "Python 3 (ipykernel)",
   "language": "python",
   "name": "python3"
  },
  "language_info": {
   "codemirror_mode": {
    "name": "ipython",
    "version": 3
   },
   "file_extension": ".py",
   "mimetype": "text/x-python",
   "name": "python",
   "nbconvert_exporter": "python",
   "pygments_lexer": "ipython3",
   "version": "3.8.8"
  }
 },
 "nbformat": 4,
 "nbformat_minor": 5
}
